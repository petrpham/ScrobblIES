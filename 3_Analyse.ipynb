{
 "cells": [
  {
   "cell_type": "markdown",
   "metadata": {},
   "source": [
    "# Part 3 - Analyse"
   ]
  },
  {
   "cell_type": "code",
   "execution_count": 77,
   "metadata": {},
   "outputs": [],
   "source": [
    "import pandas as pd"
   ]
  },
  {
   "cell_type": "code",
   "execution_count": 216,
   "metadata": {},
   "outputs": [],
   "source": [
    "import matplotlib as mpl"
   ]
  },
  {
   "cell_type": "code",
   "execution_count": 219,
   "metadata": {},
   "outputs": [],
   "source": [
    "from matplotlib import pyplot"
   ]
  },
  {
   "cell_type": "code",
   "execution_count": 270,
   "metadata": {},
   "outputs": [],
   "source": [
    "class Analyzer:\n",
    "    '''\n",
    "    Class representing analyzed data attained from previous parts with attributes and methods used for analysis.\n",
    "    '''\n",
    "    def __init__(self, allowLog = True):\n",
    "        '''\n",
    "        Initilization of Downloader object. Storing objects from the webpage with self.qwe, self.rty and self.uio\n",
    "        '''\n",
    "        self.allowLog = allowLog\n",
    "        if self.allowLog:\n",
    "            print('Analyzer initialized.')    \n",
    "    \n",
    "    def dataLoader(self, df, whatData = 'GeoTopArtists'):\n",
    "        '''\n",
    "        Loads the processed data from previous parts.\n",
    "        '''\n",
    "        self.df = df        \n",
    "        if whatData == 'GeoTopArtists':\n",
    "            print('Data loaded.')\n",
    "        elif whatData == 'GeoTopTracks':\n",
    "            self.whatData = 'GeoTopTracks'\n",
    "            print('Data loaded.')\n",
    "        elif whatData == 'ArtistInfo':\n",
    "            self.whatData = 'ArtistInfo'\n",
    "            print('Data loaded.')\n",
    "        else:\n",
    "            print('I cannot recognize the type of data you want to pass. Select please from one of the following: \\n\\\"GeoTopArtists\\\" \\n\\\"GeoTopTracks\\\" \\n\\\"ArtistInfo\\\" \\nThank you very much!')\n",
    "                 \n",
    "    \n",
    "    def showMeTheTopArtists(self, N, sortBy  = 'Scrobbles'):\n",
    "        '''\n",
    "        Shows the most N scrobbled artist, or the artist with the highest number of listeners.\n",
    "        '''\n",
    "        self.df['Scrobbles per Listener'] = self.df['Scrobbles'] / self.df['Listeners']\n",
    "        \n",
    "        if sortBy == 'Listeners':\n",
    "            return self.df.sort_values(by = ['Listeners'], ascending = False)[['Artist', 'Listeners', 'Scrobbles', 'Scrobbles per Listener']].head(N)\n",
    "        elif sortBy == 'Scrobbles':\n",
    "            return self.df.sort_values(by = ['Scrobbles'], ascending = False)[['Artist', 'Listeners', 'Scrobbles', 'Scrobbles per Listener']].head(N)\n",
    "        elif sortBy=='SpL':                \n",
    "            return self.df.sort_values(by = ['Scrobbles per Listener'], ascending = False)[['Artist', 'Listeners', 'Scrobbles', 'Scrobbles per Listener']].head(N)\n",
    "        else:\n",
    "            return print('Unfortunately couldn\\'t sorted the dataframe as you wish. Please choose one of the following:\\n\"Scrobbles\"\\n\"Listeners\"\\n\"SpL\"\\nThank you!')\n",
    "    \n",
    "    def plotIt(self, whatToPlot, byWhat = 'Scrobbles'):\n",
    "        '''\n",
    "        Creates the basic Bar plot of listeners for a given set.\n",
    "        '''\n",
    "        if byWhat == 'SpL':\n",
    "            byWhat = 'Scrobbles per Listener'\n",
    "        plot1 = whatToPlot.sort_values(by = byWhat)\n",
    "        return pyplot.barh(plot1['Artist'], width = plot1[byWhat], align = 'center')\n",
    "        \n",
    "    def showMeCountrySpecifics(self, cntry, typ = 'Artist'):\n",
    "        '''\n",
    "        Shows the specific values (Artist or Tracks) which appear in Top 100 only in one country.\n",
    "        '''\n",
    "        cA = self.df[self.df['Country'] == cntry ][typ]\n",
    "        nonCA = self.df[self.df['Country'] != cntry ][typ]\n",
    "        for a in list(cA):\n",
    "            if a in list(nonCA):\n",
    "                pass\n",
    "            else:\n",
    "                print(a)\n",
    "        "
   ]
  },
  {
   "cell_type": "code",
   "execution_count": 271,
   "metadata": {
    "scrolled": true
   },
   "outputs": [
    {
     "data": {
      "text/html": [
       "<div>\n",
       "<style scoped>\n",
       "    .dataframe tbody tr th:only-of-type {\n",
       "        vertical-align: middle;\n",
       "    }\n",
       "\n",
       "    .dataframe tbody tr th {\n",
       "        vertical-align: top;\n",
       "    }\n",
       "\n",
       "    .dataframe thead th {\n",
       "        text-align: right;\n",
       "    }\n",
       "</style>\n",
       "<table border=\"1\" class=\"dataframe\">\n",
       "  <thead>\n",
       "    <tr style=\"text-align: right;\">\n",
       "      <th></th>\n",
       "      <th>ArtistId</th>\n",
       "      <th>Artist</th>\n",
       "      <th>Listeners</th>\n",
       "      <th>Scrobbles</th>\n",
       "      <th>Tag1</th>\n",
       "      <th>Tag2</th>\n",
       "      <th>Tag3</th>\n",
       "      <th>Tag4</th>\n",
       "      <th>Tag5</th>\n",
       "    </tr>\n",
       "  </thead>\n",
       "  <tbody>\n",
       "    <tr>\n",
       "      <th>0</th>\n",
       "      <td>603ba565-3967-4be1-931e-9cb945394e86</td>\n",
       "      <td>*NSYNC</td>\n",
       "      <td>1000244</td>\n",
       "      <td>13392103</td>\n",
       "      <td>pop</td>\n",
       "      <td>boybands</td>\n",
       "      <td>90s</td>\n",
       "      <td>dance</td>\n",
       "      <td>seen live</td>\n",
       "    </tr>\n",
       "    <tr>\n",
       "      <th>1</th>\n",
       "      <td>f37c537b-3557-4031-bfd6-ab63ced32854</td>\n",
       "      <td>10cc</td>\n",
       "      <td>757032</td>\n",
       "      <td>6539113</td>\n",
       "      <td>classic rock</td>\n",
       "      <td>rock</td>\n",
       "      <td>70s</td>\n",
       "      <td>pop</td>\n",
       "      <td>british</td>\n",
       "    </tr>\n",
       "    <tr>\n",
       "      <th>2</th>\n",
       "      <td>dff0d392-4cd5-4052-9fbb-f485df3891e5</td>\n",
       "      <td>2 Chainz</td>\n",
       "      <td>689853</td>\n",
       "      <td>10755122</td>\n",
       "      <td>Hip-Hop</td>\n",
       "      <td>rap</td>\n",
       "      <td>Dirty South</td>\n",
       "      <td>trap</td>\n",
       "      <td>southern rap</td>\n",
       "    </tr>\n",
       "    <tr>\n",
       "      <th>3</th>\n",
       "      <td>02628cd8-ca14-4545-a0b4-96020b54692b</td>\n",
       "      <td>20syl</td>\n",
       "      <td>77619</td>\n",
       "      <td>892733</td>\n",
       "      <td>Hip-Hop</td>\n",
       "      <td>french</td>\n",
       "      <td>electronic</td>\n",
       "      <td>turntablism</td>\n",
       "      <td>hip hop</td>\n",
       "    </tr>\n",
       "    <tr>\n",
       "      <th>4</th>\n",
       "      <td>382f1005-e9ab-4684-afd4-0bdae4ee37f2</td>\n",
       "      <td>2Pac</td>\n",
       "      <td>2245429</td>\n",
       "      <td>58602220</td>\n",
       "      <td>rap</td>\n",
       "      <td>Hip-Hop</td>\n",
       "      <td>Gangsta Rap</td>\n",
       "      <td>West Coast Rap</td>\n",
       "      <td>hip hop</td>\n",
       "    </tr>\n",
       "  </tbody>\n",
       "</table>\n",
       "</div>"
      ],
      "text/plain": [
       "                               ArtistId    Artist  Listeners  Scrobbles  \\\n",
       "0  603ba565-3967-4be1-931e-9cb945394e86    *NSYNC    1000244   13392103   \n",
       "1  f37c537b-3557-4031-bfd6-ab63ced32854      10cc     757032    6539113   \n",
       "2  dff0d392-4cd5-4052-9fbb-f485df3891e5  2 Chainz     689853   10755122   \n",
       "3  02628cd8-ca14-4545-a0b4-96020b54692b     20syl      77619     892733   \n",
       "4  382f1005-e9ab-4684-afd4-0bdae4ee37f2      2Pac    2245429   58602220   \n",
       "\n",
       "           Tag1      Tag2         Tag3            Tag4          Tag5  \n",
       "0           pop  boybands          90s           dance     seen live  \n",
       "1  classic rock      rock          70s             pop       british  \n",
       "2       Hip-Hop       rap  Dirty South            trap  southern rap  \n",
       "3       Hip-Hop    french   electronic     turntablism       hip hop  \n",
       "4           rap   Hip-Hop  Gangsta Rap  West Coast Rap       hip hop  "
      ]
     },
     "execution_count": 271,
     "metadata": {},
     "output_type": "execute_result"
    }
   ],
   "source": [
    "df = pd.read_csv('artist_info.csv', sep = ',')\n",
    "df = df.drop(columns = ['Unnamed: 0'], axis = 1)\n",
    "df.head()"
   ]
  },
  {
   "cell_type": "code",
   "execution_count": 272,
   "metadata": {},
   "outputs": [
    {
     "name": "stdout",
     "output_type": "stream",
     "text": [
      "Analyzer initialized.\n",
      "Data loaded.\n"
     ]
    }
   ],
   "source": [
    "newA = Analyzer()\n",
    "newA.dataLoader(df,'ArtistInfo')"
   ]
  },
  {
   "cell_type": "markdown",
   "metadata": {},
   "source": [
    "## Some of the basic statistics and interesting results"
   ]
  },
  {
   "cell_type": "markdown",
   "metadata": {},
   "source": [
    "In previous parts we processed the data of approximately 1200 most listened artists on the platform. We are going to use them for some basic analysis."
   ]
  },
  {
   "cell_type": "markdown",
   "metadata": {},
   "source": [
    "We firstly introduce the chart of the top 20 artist based on the scrobbles (i.e. number of played songs from the artists by users of Last.fm)."
   ]
  },
  {
   "cell_type": "code",
   "execution_count": 273,
   "metadata": {
    "scrolled": true
   },
   "outputs": [
    {
     "data": {
      "text/html": [
       "<div>\n",
       "<style scoped>\n",
       "    .dataframe tbody tr th:only-of-type {\n",
       "        vertical-align: middle;\n",
       "    }\n",
       "\n",
       "    .dataframe tbody tr th {\n",
       "        vertical-align: top;\n",
       "    }\n",
       "\n",
       "    .dataframe thead th {\n",
       "        text-align: right;\n",
       "    }\n",
       "</style>\n",
       "<table border=\"1\" class=\"dataframe\">\n",
       "  <thead>\n",
       "    <tr style=\"text-align: right;\">\n",
       "      <th></th>\n",
       "      <th>Artist</th>\n",
       "      <th>Listeners</th>\n",
       "      <th>Scrobbles</th>\n",
       "      <th>Scrobbles per Listener</th>\n",
       "    </tr>\n",
       "  </thead>\n",
       "  <tbody>\n",
       "    <tr>\n",
       "      <th>992</th>\n",
       "      <td>The Beatles</td>\n",
       "      <td>3783733</td>\n",
       "      <td>537207098</td>\n",
       "      <td>141.978067</td>\n",
       "    </tr>\n",
       "    <tr>\n",
       "      <th>844</th>\n",
       "      <td>Radiohead</td>\n",
       "      <td>4821534</td>\n",
       "      <td>515452255</td>\n",
       "      <td>106.906278</td>\n",
       "    </tr>\n",
       "    <tr>\n",
       "      <th>242</th>\n",
       "      <td>Coldplay</td>\n",
       "      <td>5487151</td>\n",
       "      <td>370302801</td>\n",
       "      <td>67.485440</td>\n",
       "    </tr>\n",
       "    <tr>\n",
       "      <th>723</th>\n",
       "      <td>Muse</td>\n",
       "      <td>4153641</td>\n",
       "      <td>353109565</td>\n",
       "      <td>85.012057</td>\n",
       "    </tr>\n",
       "    <tr>\n",
       "      <th>72</th>\n",
       "      <td>Arctic Monkeys</td>\n",
       "      <td>3594730</td>\n",
       "      <td>345820358</td>\n",
       "      <td>96.202040</td>\n",
       "    </tr>\n",
       "    <tr>\n",
       "      <th>819</th>\n",
       "      <td>Pink Floyd</td>\n",
       "      <td>3167698</td>\n",
       "      <td>324401009</td>\n",
       "      <td>102.409071</td>\n",
       "    </tr>\n",
       "    <tr>\n",
       "      <th>619</th>\n",
       "      <td>Linkin Park</td>\n",
       "      <td>4054402</td>\n",
       "      <td>303649011</td>\n",
       "      <td>74.893662</td>\n",
       "    </tr>\n",
       "    <tr>\n",
       "      <th>854</th>\n",
       "      <td>Red Hot Chili Peppers</td>\n",
       "      <td>4704723</td>\n",
       "      <td>302251011</td>\n",
       "      <td>64.244167</td>\n",
       "    </tr>\n",
       "    <tr>\n",
       "      <th>590</th>\n",
       "      <td>Lady Gaga</td>\n",
       "      <td>3925363</td>\n",
       "      <td>297780074</td>\n",
       "      <td>75.860519</td>\n",
       "    </tr>\n",
       "    <tr>\n",
       "      <th>690</th>\n",
       "      <td>Metallica</td>\n",
       "      <td>2960691</td>\n",
       "      <td>288974324</td>\n",
       "      <td>97.603676</td>\n",
       "    </tr>\n",
       "    <tr>\n",
       "      <th>543</th>\n",
       "      <td>Kanye West</td>\n",
       "      <td>4524008</td>\n",
       "      <td>273346082</td>\n",
       "      <td>60.421220</td>\n",
       "    </tr>\n",
       "    <tr>\n",
       "      <th>594</th>\n",
       "      <td>Lana Del Rey</td>\n",
       "      <td>2017109</td>\n",
       "      <td>249125270</td>\n",
       "      <td>123.506102</td>\n",
       "    </tr>\n",
       "    <tr>\n",
       "      <th>968</th>\n",
       "      <td>System of a Down</td>\n",
       "      <td>3556664</td>\n",
       "      <td>232331938</td>\n",
       "      <td>65.322993</td>\n",
       "    </tr>\n",
       "    <tr>\n",
       "      <th>760</th>\n",
       "      <td>Nirvana</td>\n",
       "      <td>4362266</td>\n",
       "      <td>229721764</td>\n",
       "      <td>52.661109</td>\n",
       "    </tr>\n",
       "    <tr>\n",
       "      <th>977</th>\n",
       "      <td>Taylor Swift</td>\n",
       "      <td>2350170</td>\n",
       "      <td>218331742</td>\n",
       "      <td>92.900404</td>\n",
       "    </tr>\n",
       "    <tr>\n",
       "      <th>1018</th>\n",
       "      <td>The Killers</td>\n",
       "      <td>4510073</td>\n",
       "      <td>216418725</td>\n",
       "      <td>47.985637</td>\n",
       "    </tr>\n",
       "    <tr>\n",
       "      <th>265</th>\n",
       "      <td>Daft Punk</td>\n",
       "      <td>3864620</td>\n",
       "      <td>215046210</td>\n",
       "      <td>55.644853</td>\n",
       "    </tr>\n",
       "    <tr>\n",
       "      <th>337</th>\n",
       "      <td>Eminem</td>\n",
       "      <td>4624847</td>\n",
       "      <td>209443855</td>\n",
       "      <td>45.286656</td>\n",
       "    </tr>\n",
       "    <tr>\n",
       "      <th>175</th>\n",
       "      <td>Britney Spears</td>\n",
       "      <td>3352144</td>\n",
       "      <td>209184356</td>\n",
       "      <td>62.403153</td>\n",
       "    </tr>\n",
       "    <tr>\n",
       "      <th>861</th>\n",
       "      <td>Rihanna</td>\n",
       "      <td>4675544</td>\n",
       "      <td>208837032</td>\n",
       "      <td>44.665825</td>\n",
       "    </tr>\n",
       "  </tbody>\n",
       "</table>\n",
       "</div>"
      ],
      "text/plain": [
       "                     Artist  Listeners  Scrobbles  Scrobbles per Listener\n",
       "992             The Beatles    3783733  537207098              141.978067\n",
       "844               Radiohead    4821534  515452255              106.906278\n",
       "242                Coldplay    5487151  370302801               67.485440\n",
       "723                    Muse    4153641  353109565               85.012057\n",
       "72           Arctic Monkeys    3594730  345820358               96.202040\n",
       "819              Pink Floyd    3167698  324401009              102.409071\n",
       "619             Linkin Park    4054402  303649011               74.893662\n",
       "854   Red Hot Chili Peppers    4704723  302251011               64.244167\n",
       "590               Lady Gaga    3925363  297780074               75.860519\n",
       "690               Metallica    2960691  288974324               97.603676\n",
       "543              Kanye West    4524008  273346082               60.421220\n",
       "594            Lana Del Rey    2017109  249125270              123.506102\n",
       "968        System of a Down    3556664  232331938               65.322993\n",
       "760                 Nirvana    4362266  229721764               52.661109\n",
       "977            Taylor Swift    2350170  218331742               92.900404\n",
       "1018            The Killers    4510073  216418725               47.985637\n",
       "265               Daft Punk    3864620  215046210               55.644853\n",
       "337                  Eminem    4624847  209443855               45.286656\n",
       "175          Britney Spears    3352144  209184356               62.403153\n",
       "861                 Rihanna    4675544  208837032               44.665825"
      ]
     },
     "execution_count": 273,
     "metadata": {},
     "output_type": "execute_result"
    }
   ],
   "source": [
    "newA.showMeTheTopArtists(20)"
   ]
  },
  {
   "cell_type": "code",
   "execution_count": 274,
   "metadata": {},
   "outputs": [
    {
     "data": {
      "text/plain": [
       "<BarContainer object of 20 artists>"
      ]
     },
     "execution_count": 274,
     "metadata": {},
     "output_type": "execute_result"
    },
    {
     "data": {
      "image/png": "[encoded data removed]",
      "text/plain": [
       "<Figure size 432x288 with 1 Axes>"
      ]
     },
     "metadata": {
      "needs_background": "light"
     },
     "output_type": "display_data"
    }
   ],
   "source": [
    "newA.plotIt(whatToPlot = newA.showMeTheTopArtists(20), byWhat = 'Scrobbles')"
   ]
  },
  {
   "cell_type": "markdown",
   "metadata": {},
   "source": [
    "The Beatles are the winners in the category of most scrobbled artist with over the half of a billion scrobbled tracks, followed by Radiohead and Coldplay. Interesting result is that The Beatles have approximately 3.75 million listeneres whereas Coldplay on the third place have almost 5.5 million listeners. We will see that they are the winners in the second category where the ranking follows from the number of listeners."
   ]
  },
  {
   "cell_type": "markdown",
   "metadata": {},
   "source": [
    "We follow by top 20 artists sorted by number of listeners (i.e. the number of users of Last.fm, who had at least once listened to a song from this artist)."
   ]
  },
  {
   "cell_type": "code",
   "execution_count": 275,
   "metadata": {
    "scrolled": true
   },
   "outputs": [
    {
     "data": {
      "text/html": [
       "<div>\n",
       "<style scoped>\n",
       "    .dataframe tbody tr th:only-of-type {\n",
       "        vertical-align: middle;\n",
       "    }\n",
       "\n",
       "    .dataframe tbody tr th {\n",
       "        vertical-align: top;\n",
       "    }\n",
       "\n",
       "    .dataframe thead th {\n",
       "        text-align: right;\n",
       "    }\n",
       "</style>\n",
       "<table border=\"1\" class=\"dataframe\">\n",
       "  <thead>\n",
       "    <tr style=\"text-align: right;\">\n",
       "      <th></th>\n",
       "      <th>Artist</th>\n",
       "      <th>Listeners</th>\n",
       "      <th>Scrobbles</th>\n",
       "      <th>Scrobbles per Listener</th>\n",
       "    </tr>\n",
       "  </thead>\n",
       "  <tbody>\n",
       "    <tr>\n",
       "      <th>242</th>\n",
       "      <td>Coldplay</td>\n",
       "      <td>5487151</td>\n",
       "      <td>370302801</td>\n",
       "      <td>67.485440</td>\n",
       "    </tr>\n",
       "    <tr>\n",
       "      <th>844</th>\n",
       "      <td>Radiohead</td>\n",
       "      <td>4821534</td>\n",
       "      <td>515452255</td>\n",
       "      <td>106.906278</td>\n",
       "    </tr>\n",
       "    <tr>\n",
       "      <th>854</th>\n",
       "      <td>Red Hot Chili Peppers</td>\n",
       "      <td>4704723</td>\n",
       "      <td>302251011</td>\n",
       "      <td>64.244167</td>\n",
       "    </tr>\n",
       "    <tr>\n",
       "      <th>861</th>\n",
       "      <td>Rihanna</td>\n",
       "      <td>4675544</td>\n",
       "      <td>208837032</td>\n",
       "      <td>44.665825</td>\n",
       "    </tr>\n",
       "    <tr>\n",
       "      <th>337</th>\n",
       "      <td>Eminem</td>\n",
       "      <td>4624847</td>\n",
       "      <td>209443855</td>\n",
       "      <td>45.286656</td>\n",
       "    </tr>\n",
       "    <tr>\n",
       "      <th>543</th>\n",
       "      <td>Kanye West</td>\n",
       "      <td>4524008</td>\n",
       "      <td>273346082</td>\n",
       "      <td>60.421220</td>\n",
       "    </tr>\n",
       "    <tr>\n",
       "      <th>1018</th>\n",
       "      <td>The Killers</td>\n",
       "      <td>4510073</td>\n",
       "      <td>216418725</td>\n",
       "      <td>47.985637</td>\n",
       "    </tr>\n",
       "    <tr>\n",
       "      <th>760</th>\n",
       "      <td>Nirvana</td>\n",
       "      <td>4362266</td>\n",
       "      <td>229721764</td>\n",
       "      <td>52.661109</td>\n",
       "    </tr>\n",
       "    <tr>\n",
       "      <th>723</th>\n",
       "      <td>Muse</td>\n",
       "      <td>4153641</td>\n",
       "      <td>353109565</td>\n",
       "      <td>85.012057</td>\n",
       "    </tr>\n",
       "    <tr>\n",
       "      <th>836</th>\n",
       "      <td>Queen</td>\n",
       "      <td>4139663</td>\n",
       "      <td>203080438</td>\n",
       "      <td>49.057239</td>\n",
       "    </tr>\n",
       "    <tr>\n",
       "      <th>386</th>\n",
       "      <td>Foo Fighters</td>\n",
       "      <td>4066930</td>\n",
       "      <td>199324642</td>\n",
       "      <td>49.011083</td>\n",
       "    </tr>\n",
       "    <tr>\n",
       "      <th>619</th>\n",
       "      <td>Linkin Park</td>\n",
       "      <td>4054402</td>\n",
       "      <td>303649011</td>\n",
       "      <td>74.893662</td>\n",
       "    </tr>\n",
       "    <tr>\n",
       "      <th>590</th>\n",
       "      <td>Lady Gaga</td>\n",
       "      <td>3925363</td>\n",
       "      <td>297780074</td>\n",
       "      <td>75.860519</td>\n",
       "    </tr>\n",
       "    <tr>\n",
       "      <th>1038</th>\n",
       "      <td>The Rolling Stones</td>\n",
       "      <td>3881095</td>\n",
       "      <td>159723700</td>\n",
       "      <td>41.154288</td>\n",
       "    </tr>\n",
       "    <tr>\n",
       "      <th>265</th>\n",
       "      <td>Daft Punk</td>\n",
       "      <td>3864620</td>\n",
       "      <td>215046210</td>\n",
       "      <td>55.644853</td>\n",
       "    </tr>\n",
       "    <tr>\n",
       "      <th>551</th>\n",
       "      <td>Katy Perry</td>\n",
       "      <td>3852362</td>\n",
       "      <td>157126860</td>\n",
       "      <td>40.787148</td>\n",
       "    </tr>\n",
       "    <tr>\n",
       "      <th>424</th>\n",
       "      <td>Green Day</td>\n",
       "      <td>3827606</td>\n",
       "      <td>194717635</td>\n",
       "      <td>50.871912</td>\n",
       "    </tr>\n",
       "    <tr>\n",
       "      <th>992</th>\n",
       "      <td>The Beatles</td>\n",
       "      <td>3783733</td>\n",
       "      <td>537207098</td>\n",
       "      <td>141.978067</td>\n",
       "    </tr>\n",
       "    <tr>\n",
       "      <th>127</th>\n",
       "      <td>Beyoncé</td>\n",
       "      <td>3681155</td>\n",
       "      <td>171115111</td>\n",
       "      <td>46.484082</td>\n",
       "    </tr>\n",
       "    <tr>\n",
       "      <th>770</th>\n",
       "      <td>Oasis</td>\n",
       "      <td>3666993</td>\n",
       "      <td>155318371</td>\n",
       "      <td>42.355786</td>\n",
       "    </tr>\n",
       "  </tbody>\n",
       "</table>\n",
       "</div>"
      ],
      "text/plain": [
       "                     Artist  Listeners  Scrobbles  Scrobbles per Listener\n",
       "242                Coldplay    5487151  370302801               67.485440\n",
       "844               Radiohead    4821534  515452255              106.906278\n",
       "854   Red Hot Chili Peppers    4704723  302251011               64.244167\n",
       "861                 Rihanna    4675544  208837032               44.665825\n",
       "337                  Eminem    4624847  209443855               45.286656\n",
       "543              Kanye West    4524008  273346082               60.421220\n",
       "1018            The Killers    4510073  216418725               47.985637\n",
       "760                 Nirvana    4362266  229721764               52.661109\n",
       "723                    Muse    4153641  353109565               85.012057\n",
       "836                   Queen    4139663  203080438               49.057239\n",
       "386            Foo Fighters    4066930  199324642               49.011083\n",
       "619             Linkin Park    4054402  303649011               74.893662\n",
       "590               Lady Gaga    3925363  297780074               75.860519\n",
       "1038     The Rolling Stones    3881095  159723700               41.154288\n",
       "265               Daft Punk    3864620  215046210               55.644853\n",
       "551              Katy Perry    3852362  157126860               40.787148\n",
       "424               Green Day    3827606  194717635               50.871912\n",
       "992             The Beatles    3783733  537207098              141.978067\n",
       "127                 Beyoncé    3681155  171115111               46.484082\n",
       "770                   Oasis    3666993  155318371               42.355786"
      ]
     },
     "execution_count": 275,
     "metadata": {},
     "output_type": "execute_result"
    }
   ],
   "source": [
    "newA.showMeTheTopArtists(N = 20, sortBy = 'Listeners')"
   ]
  },
  {
   "cell_type": "code",
   "execution_count": 276,
   "metadata": {},
   "outputs": [
    {
     "data": {
      "text/plain": [
       "<BarContainer object of 20 artists>"
      ]
     },
     "execution_count": 276,
     "metadata": {},
     "output_type": "execute_result"
    },
    {
     "data": {
      "image/png": "[encoded data removed]",
      "text/plain": [
       "<Figure size 432x288 with 1 Axes>"
      ]
     },
     "metadata": {
      "needs_background": "light"
     },
     "output_type": "display_data"
    }
   ],
   "source": [
    "newA.plotIt(whatToPlot = newA.showMeTheTopArtists(20, sortBy = 'Listeners'), byWhat = 'Listeners')"
   ]
  },
  {
   "cell_type": "markdown",
   "metadata": {},
   "source": [
    "Coldplay, Radiohead and Red Hot Chili Peppers are on the first three positions, but The Beatles dropped to 18th position. As we can see they have much higher Scrobble per (average) Listener ratio than the rest of the Top 20 (only them and Radiohead reached over the 100 Scrobbles per Listener)."
   ]
  },
  {
   "cell_type": "markdown",
   "metadata": {},
   "source": [
    "Motivated by these differences we started looking for the bands with the most \"devoted\" fans, i.e. we plot the Top 20 artists with highest scrobbles per listener ratio."
   ]
  },
  {
   "cell_type": "code",
   "execution_count": 277,
   "metadata": {
    "scrolled": true
   },
   "outputs": [
    {
     "data": {
      "text/html": [
       "<div>\n",
       "<style scoped>\n",
       "    .dataframe tbody tr th:only-of-type {\n",
       "        vertical-align: middle;\n",
       "    }\n",
       "\n",
       "    .dataframe tbody tr th {\n",
       "        vertical-align: top;\n",
       "    }\n",
       "\n",
       "    .dataframe thead th {\n",
       "        text-align: right;\n",
       "    }\n",
       "</style>\n",
       "<table border=\"1\" class=\"dataframe\">\n",
       "  <thead>\n",
       "    <tr style=\"text-align: right;\">\n",
       "      <th></th>\n",
       "      <th>Artist</th>\n",
       "      <th>Listeners</th>\n",
       "      <th>Scrobbles</th>\n",
       "      <th>Scrobbles per Listener</th>\n",
       "    </tr>\n",
       "  </thead>\n",
       "  <tbody>\n",
       "    <tr>\n",
       "      <th>95</th>\n",
       "      <td>BTS</td>\n",
       "      <td>313537</td>\n",
       "      <td>203482762</td>\n",
       "      <td>648.991226</td>\n",
       "    </tr>\n",
       "    <tr>\n",
       "      <th>356</th>\n",
       "      <td>Exo</td>\n",
       "      <td>156865</td>\n",
       "      <td>36331408</td>\n",
       "      <td>231.609397</td>\n",
       "    </tr>\n",
       "    <tr>\n",
       "      <th>972</th>\n",
       "      <td>Taco Hemingway</td>\n",
       "      <td>48650</td>\n",
       "      <td>8111212</td>\n",
       "      <td>166.725838</td>\n",
       "    </tr>\n",
       "    <tr>\n",
       "      <th>1166</th>\n",
       "      <td>サカナクション</td>\n",
       "      <td>50651</td>\n",
       "      <td>8063977</td>\n",
       "      <td>159.206669</td>\n",
       "    </tr>\n",
       "    <tr>\n",
       "      <th>1176</th>\n",
       "      <td>星野源</td>\n",
       "      <td>14820</td>\n",
       "      <td>2254793</td>\n",
       "      <td>152.145277</td>\n",
       "    </tr>\n",
       "    <tr>\n",
       "      <th>992</th>\n",
       "      <td>The Beatles</td>\n",
       "      <td>3783733</td>\n",
       "      <td>537207098</td>\n",
       "      <td>141.978067</td>\n",
       "    </tr>\n",
       "    <tr>\n",
       "      <th>94</th>\n",
       "      <td>BROCKHAMPTON</td>\n",
       "      <td>327799</td>\n",
       "      <td>45529147</td>\n",
       "      <td>138.893490</td>\n",
       "    </tr>\n",
       "    <tr>\n",
       "      <th>811</th>\n",
       "      <td>Perfume</td>\n",
       "      <td>184314</td>\n",
       "      <td>25256200</td>\n",
       "      <td>137.028115</td>\n",
       "    </tr>\n",
       "    <tr>\n",
       "      <th>450</th>\n",
       "      <td>Horkýže Slíže</td>\n",
       "      <td>30794</td>\n",
       "      <td>3965752</td>\n",
       "      <td>128.783269</td>\n",
       "    </tr>\n",
       "    <tr>\n",
       "      <th>1183</th>\n",
       "      <td>相対性理論</td>\n",
       "      <td>43445</td>\n",
       "      <td>5531864</td>\n",
       "      <td>127.330280</td>\n",
       "    </tr>\n",
       "    <tr>\n",
       "      <th>594</th>\n",
       "      <td>Lana Del Rey</td>\n",
       "      <td>2017109</td>\n",
       "      <td>249125270</td>\n",
       "      <td>123.506102</td>\n",
       "    </tr>\n",
       "    <tr>\n",
       "      <th>769</th>\n",
       "      <td>ONE OK ROCK</td>\n",
       "      <td>163473</td>\n",
       "      <td>19898992</td>\n",
       "      <td>121.726475</td>\n",
       "    </tr>\n",
       "    <tr>\n",
       "      <th>464</th>\n",
       "      <td>In Flames</td>\n",
       "      <td>1202785</td>\n",
       "      <td>144705178</td>\n",
       "      <td>120.308433</td>\n",
       "    </tr>\n",
       "    <tr>\n",
       "      <th>74</th>\n",
       "      <td>Ariana Grande</td>\n",
       "      <td>1239294</td>\n",
       "      <td>141547962</td>\n",
       "      <td>114.216612</td>\n",
       "    </tr>\n",
       "    <tr>\n",
       "      <th>833</th>\n",
       "      <td>Pyhimys</td>\n",
       "      <td>34674</td>\n",
       "      <td>3910590</td>\n",
       "      <td>112.781623</td>\n",
       "    </tr>\n",
       "    <tr>\n",
       "      <th>548</th>\n",
       "      <td>Katatonia</td>\n",
       "      <td>499346</td>\n",
       "      <td>56173247</td>\n",
       "      <td>112.493636</td>\n",
       "    </tr>\n",
       "    <tr>\n",
       "      <th>1164</th>\n",
       "      <td>くるり</td>\n",
       "      <td>74835</td>\n",
       "      <td>8259577</td>\n",
       "      <td>110.370508</td>\n",
       "    </tr>\n",
       "    <tr>\n",
       "      <th>441</th>\n",
       "      <td>Hey</td>\n",
       "      <td>254021</td>\n",
       "      <td>27870478</td>\n",
       "      <td>109.717220</td>\n",
       "    </tr>\n",
       "    <tr>\n",
       "      <th>1180</th>\n",
       "      <td>植松伸夫</td>\n",
       "      <td>414943</td>\n",
       "      <td>45257956</td>\n",
       "      <td>109.070296</td>\n",
       "    </tr>\n",
       "    <tr>\n",
       "      <th>844</th>\n",
       "      <td>Radiohead</td>\n",
       "      <td>4821534</td>\n",
       "      <td>515452255</td>\n",
       "      <td>106.906278</td>\n",
       "    </tr>\n",
       "  </tbody>\n",
       "</table>\n",
       "</div>"
      ],
      "text/plain": [
       "              Artist  Listeners  Scrobbles  Scrobbles per Listener\n",
       "95               BTS     313537  203482762              648.991226\n",
       "356              Exo     156865   36331408              231.609397\n",
       "972   Taco Hemingway      48650    8111212              166.725838\n",
       "1166         サカナクション      50651    8063977              159.206669\n",
       "1176             星野源      14820    2254793              152.145277\n",
       "992      The Beatles    3783733  537207098              141.978067\n",
       "94      BROCKHAMPTON     327799   45529147              138.893490\n",
       "811          Perfume     184314   25256200              137.028115\n",
       "450    Horkýže Slíže      30794    3965752              128.783269\n",
       "1183           相対性理論      43445    5531864              127.330280\n",
       "594     Lana Del Rey    2017109  249125270              123.506102\n",
       "769      ONE OK ROCK     163473   19898992              121.726475\n",
       "464        In Flames    1202785  144705178              120.308433\n",
       "74     Ariana Grande    1239294  141547962              114.216612\n",
       "833          Pyhimys      34674    3910590              112.781623\n",
       "548        Katatonia     499346   56173247              112.493636\n",
       "1164             くるり      74835    8259577              110.370508\n",
       "441              Hey     254021   27870478              109.717220\n",
       "1180            植松伸夫     414943   45257956              109.070296\n",
       "844        Radiohead    4821534  515452255              106.906278"
      ]
     },
     "execution_count": 277,
     "metadata": {},
     "output_type": "execute_result"
    }
   ],
   "source": [
    "newA.showMeTheTopArtists(N = 20, sortBy = 'SpL')"
   ]
  },
  {
   "cell_type": "code",
   "execution_count": 278,
   "metadata": {},
   "outputs": [
    {
     "data": {
      "text/plain": [
       "<BarContainer object of 20 artists>"
      ]
     },
     "execution_count": 278,
     "metadata": {},
     "output_type": "execute_result"
    },
    {
     "data": {
      "image/png": "[encoded data removed]",
      "text/plain": [
       "<Figure size 432x288 with 1 Axes>"
      ]
     },
     "metadata": {
      "needs_background": "light"
     },
     "output_type": "display_data"
    }
   ],
   "source": [
    "newA.plotIt(whatToPlot = newA.showMeTheTopArtists(20, sortBy = 'SpL'), byWhat = 'SpL')"
   ]
  },
  {
   "cell_type": "markdown",
   "metadata": {},
   "source": [
    "From the first two charts only Beatles, Radiohead and Lana Del Rey stayed in a Top 20 Scrobbles per Listener artist. The band BTS on the first position has extremely large value indicating that great portion of the listeners of BTS listens to this band quite a lot.\n",
    "\n",
    "It is worth mentioning that these statistics don't fully describe the mentioned property of \"devoted\" fans, since the unit measured (scrobbles) is highly influenced by length of songs of the interpret. The outlier in the last statistic (band BTS) has in average much shorter songs than e.g. Pink Floyd which are (at the time of writing this note) on the 22nd position. Since one scrobble of a song is typically assigned if a listener has listened through at least half of the song or at least 4 minutes of the track, if one song is approximately 3 or 4 minutes long, it suffices to get a scrobble after listening through approximately minute and a half or 2 minutes, whereas if the lenght of songs is on average longer (as is for Pink Floyd or most of the post-rock, classical etc. interprets), one scrobble is counted after longer period of time. Shorter/longer songs also plays a role in a number of songs on the album, and hence the number of songs overall.\n",
    "\n",
    "__Interesting notes__: \n",
    "* The Slovakian band Horkýže Slíže is on the 9th position in the overall list.\n",
    "* Four of the Top 5 bands originate in Southeast Asia."
   ]
  },
  {
   "cell_type": "markdown",
   "metadata": {},
   "source": [
    "## Which interpret is in Top 100 in only one (chosen) country?"
   ]
  },
  {
   "cell_type": "code",
   "execution_count": 157,
   "metadata": {},
   "outputs": [
    {
     "name": "stdout",
     "output_type": "stream",
     "text": [
      "Analyzer initialized.\n",
      "Data loaded.\n"
     ]
    }
   ],
   "source": [
    "df2 = pd.read_csv('geo_top_artists_101.csv', sep = ',')\n",
    "df2.head()\n",
    "geoArt = Analyzer()\n",
    "geoArt.dataLoader(df2, 'GeoTopArtists')"
   ]
  },
  {
   "cell_type": "markdown",
   "metadata": {},
   "source": [
    "We use the method _showMeCountrySpecifics_ to see the country specific artists, i.e. these which appear only in top chart for a given country."
   ]
  },
  {
   "cell_type": "code",
   "execution_count": 158,
   "metadata": {
    "scrolled": true
   },
   "outputs": [
    {
     "name": "stdout",
     "output_type": "stream",
     "text": [
      "Jaromír Nohavica\n",
      "Lucie\n"
     ]
    }
   ],
   "source": [
    "geoArt.showMeCountrySpecifics('Czechia')"
   ]
  },
  {
   "cell_type": "code",
   "execution_count": 159,
   "metadata": {},
   "outputs": [
    {
     "name": "stdout",
     "output_type": "stream",
     "text": [
      "Horkýže Slíže\n",
      "Richard Müller\n"
     ]
    }
   ],
   "source": [
    "geoArt.showMeCountrySpecifics('Slovakia')"
   ]
  },
  {
   "cell_type": "code",
   "execution_count": 160,
   "metadata": {},
   "outputs": [
    {
     "name": "stdout",
     "output_type": "stream",
     "text": [
      "Mỹ Tâm\n",
      "Christina Perri\n",
      "Westlife\n"
     ]
    }
   ],
   "source": [
    "geoArt.showMeCountrySpecifics('Viet Nam')"
   ]
  },
  {
   "cell_type": "markdown",
   "metadata": {},
   "source": [
    "# Which song is in Top 100 in only one (chosen) country?"
   ]
  },
  {
   "cell_type": "code",
   "execution_count": 163,
   "metadata": {},
   "outputs": [
    {
     "name": "stdout",
     "output_type": "stream",
     "text": [
      "Analyzer initialized.\n",
      "Data loaded.\n"
     ]
    },
    {
     "data": {
      "text/html": [
       "<div>\n",
       "<style scoped>\n",
       "    .dataframe tbody tr th:only-of-type {\n",
       "        vertical-align: middle;\n",
       "    }\n",
       "\n",
       "    .dataframe tbody tr th {\n",
       "        vertical-align: top;\n",
       "    }\n",
       "\n",
       "    .dataframe thead th {\n",
       "        text-align: right;\n",
       "    }\n",
       "</style>\n",
       "<table border=\"1\" class=\"dataframe\">\n",
       "  <thead>\n",
       "    <tr style=\"text-align: right;\">\n",
       "      <th></th>\n",
       "      <th>CountryId</th>\n",
       "      <th>Country</th>\n",
       "      <th>Rank</th>\n",
       "      <th>Track</th>\n",
       "      <th>Duration</th>\n",
       "      <th>Artist</th>\n",
       "      <th>ArtistId</th>\n",
       "      <th>ArtistTrack</th>\n",
       "    </tr>\n",
       "  </thead>\n",
       "  <tbody>\n",
       "    <tr>\n",
       "      <th>0</th>\n",
       "      <td>1</td>\n",
       "      <td>Taiwan</td>\n",
       "      <td>1.0</td>\n",
       "      <td>Hello</td>\n",
       "      <td>0.0</td>\n",
       "      <td>Adele</td>\n",
       "      <td>cc2c9c3c-b7bc-4b8b-84d8-4fbd8779e493</td>\n",
       "      <td>Adele - Hello</td>\n",
       "    </tr>\n",
       "    <tr>\n",
       "      <th>1</th>\n",
       "      <td>1</td>\n",
       "      <td>Taiwan</td>\n",
       "      <td>2.0</td>\n",
       "      <td>Photograph</td>\n",
       "      <td>258.0</td>\n",
       "      <td>Ed Sheeran</td>\n",
       "      <td>b8a7c51f-362c-4dcb-a259-bc6e0095f0a6</td>\n",
       "      <td>Ed Sheeran - Photograph</td>\n",
       "    </tr>\n",
       "    <tr>\n",
       "      <th>2</th>\n",
       "      <td>1</td>\n",
       "      <td>Taiwan</td>\n",
       "      <td>3.0</td>\n",
       "      <td>Thinking Out Loud</td>\n",
       "      <td>280.0</td>\n",
       "      <td>Ed Sheeran</td>\n",
       "      <td>b8a7c51f-362c-4dcb-a259-bc6e0095f0a6</td>\n",
       "      <td>Ed Sheeran - Thinking Out Loud</td>\n",
       "    </tr>\n",
       "    <tr>\n",
       "      <th>3</th>\n",
       "      <td>1</td>\n",
       "      <td>Taiwan</td>\n",
       "      <td>4.0</td>\n",
       "      <td>Shape of You</td>\n",
       "      <td>0.0</td>\n",
       "      <td>Ed Sheeran</td>\n",
       "      <td>b8a7c51f-362c-4dcb-a259-bc6e0095f0a6</td>\n",
       "      <td>Ed Sheeran - Shape of You</td>\n",
       "    </tr>\n",
       "    <tr>\n",
       "      <th>4</th>\n",
       "      <td>1</td>\n",
       "      <td>Taiwan</td>\n",
       "      <td>5.0</td>\n",
       "      <td>The Scientist</td>\n",
       "      <td>309.0</td>\n",
       "      <td>Coldplay</td>\n",
       "      <td>cc197bad-dc9c-440d-a5b5-d52ba2e14234</td>\n",
       "      <td>Coldplay - The Scientist</td>\n",
       "    </tr>\n",
       "  </tbody>\n",
       "</table>\n",
       "</div>"
      ],
      "text/plain": [
       "   CountryId Country  Rank              Track  Duration      Artist  \\\n",
       "0          1  Taiwan   1.0              Hello       0.0       Adele   \n",
       "1          1  Taiwan   2.0         Photograph     258.0  Ed Sheeran   \n",
       "2          1  Taiwan   3.0  Thinking Out Loud     280.0  Ed Sheeran   \n",
       "3          1  Taiwan   4.0       Shape of You       0.0  Ed Sheeran   \n",
       "4          1  Taiwan   5.0      The Scientist     309.0    Coldplay   \n",
       "\n",
       "                               ArtistId                     ArtistTrack  \n",
       "0  cc2c9c3c-b7bc-4b8b-84d8-4fbd8779e493                   Adele - Hello  \n",
       "1  b8a7c51f-362c-4dcb-a259-bc6e0095f0a6         Ed Sheeran - Photograph  \n",
       "2  b8a7c51f-362c-4dcb-a259-bc6e0095f0a6  Ed Sheeran - Thinking Out Loud  \n",
       "3  b8a7c51f-362c-4dcb-a259-bc6e0095f0a6       Ed Sheeran - Shape of You  \n",
       "4  cc197bad-dc9c-440d-a5b5-d52ba2e14234        Coldplay - The Scientist  "
      ]
     },
     "execution_count": 163,
     "metadata": {},
     "output_type": "execute_result"
    }
   ],
   "source": [
    "df3 = pd.read_csv('geo_top_tracks_101.csv', sep = ',')\n",
    "df3 = df3.drop(columns = ['Unnamed: 0'], axis = 1)\n",
    "df3['ArtistTrack'] = df3['Artist'] + ' - '+ df3['Track']\n",
    "geoTrack = Analyzer()\n",
    "geoTrack.dataLoader(df3, 'GeoTopTracks')\n",
    "df3.head()"
   ]
  },
  {
   "cell_type": "code",
   "execution_count": 170,
   "metadata": {},
   "outputs": [],
   "source": [
    "geoTrack.showMeCountrySpecifics('Czechia', typ = 'ArtistTrack')"
   ]
  },
  {
   "cell_type": "code",
   "execution_count": 171,
   "metadata": {},
   "outputs": [],
   "source": [
    "geoTrack.showMeCountrySpecifics('Slovakia', typ = 'ArtistTrack')"
   ]
  },
  {
   "cell_type": "markdown",
   "metadata": {},
   "source": [
    "Unfortunately no specific song is either for Czech Republic or for Slovakia."
   ]
  },
  {
   "cell_type": "code",
   "execution_count": 173,
   "metadata": {},
   "outputs": [
    {
     "name": "stdout",
     "output_type": "stream",
     "text": [
      "OneRepublic - Apologize\n",
      "Backstreet Boys - Shape of My Heart\n"
     ]
    }
   ],
   "source": [
    "geoTrack.showMeCountrySpecifics('Viet Nam', typ = 'ArtistTrack')"
   ]
  },
  {
   "cell_type": "code",
   "execution_count": 184,
   "metadata": {
    "scrolled": true
   },
   "outputs": [
    {
     "name": "stdout",
     "output_type": "stream",
     "text": [
      "Europe - The Final Countdown\n",
      "Deep Purple - Smoke on the Water\n",
      "ABBA - Gimme! Gimme! Gimme! (A Man After Midnight)\n"
     ]
    }
   ],
   "source": [
    "geoTrack.showMeCountrySpecifics('Iraq', typ = 'ArtistTrack')"
   ]
  },
  {
   "cell_type": "code",
   "execution_count": null,
   "metadata": {},
   "outputs": [],
   "source": []
  },
  {
   "cell_type": "markdown",
   "metadata": {},
   "source": [
    "---"
   ]
  }
 ],
 "metadata": {
  "hide_input": false,
  "kernelspec": {
   "display_name": "Python 3",
   "language": "python",
   "name": "python3"
  },
  "language_info": {
   "codemirror_mode": {
    "name": "ipython",
    "version": 3
   },
   "file_extension": ".py",
   "mimetype": "text/x-python",
   "name": "python",
   "nbconvert_exporter": "python",
   "pygments_lexer": "ipython3",
   "version": "3.7.3"
  }
 },
 "nbformat": 4,
 "nbformat_minor": 2
}
