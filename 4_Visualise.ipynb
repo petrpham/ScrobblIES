{
 "cells": [
  {
   "cell_type": "code",
   "execution_count": 175,
   "metadata": {},
   "outputs": [],
   "source": [
    "import os"
   ]
  },
  {
   "cell_type": "code",
   "execution_count": 176,
   "metadata": {},
   "outputs": [],
   "source": [
    "import pandas as pd"
   ]
  },
  {
   "cell_type": "code",
   "execution_count": 177,
   "metadata": {},
   "outputs": [],
   "source": [
    "import folium"
   ]
  },
  {
   "cell_type": "code",
   "execution_count": 178,
   "metadata": {},
   "outputs": [],
   "source": [
    "import geopandas as gpd"
   ]
  },
  {
   "cell_type": "code",
   "execution_count": 179,
   "metadata": {},
   "outputs": [],
   "source": [
    "import webbrowser"
   ]
  },
  {
   "cell_type": "code",
   "execution_count": 180,
   "metadata": {},
   "outputs": [],
   "source": [
    "import geojson"
   ]
  },
  {
   "cell_type": "code",
   "execution_count": 181,
   "metadata": {},
   "outputs": [],
   "source": [
    "import json"
   ]
  },
  {
   "cell_type": "code",
   "execution_count": 182,
   "metadata": {},
   "outputs": [],
   "source": [
    "from IPython.display import display"
   ]
  },
  {
   "cell_type": "code",
   "execution_count": 215,
   "metadata": {},
   "outputs": [],
   "source": [
    "\n",
    "        \n",
    "    "
   ]
  },
  {
   "cell_type": "code",
   "execution_count": null,
   "metadata": {},
   "outputs": [],
   "source": []
  },
  {
   "cell_type": "code",
   "execution_count": null,
   "metadata": {},
   "outputs": [],
   "source": []
  },
  {
   "cell_type": "code",
   "execution_count": 183,
   "metadata": {},
   "outputs": [],
   "source": [
    "with open('countries.geojson', 'r') as f:\n",
    "    data = geojson.load(f)"
   ]
  },
  {
   "cell_type": "code",
   "execution_count": 184,
   "metadata": {},
   "outputs": [],
   "source": [
    "df = gpd.GeoDataFrame.from_features(data)"
   ]
  },
  {
   "cell_type": "code",
   "execution_count": 185,
   "metadata": {},
   "outputs": [],
   "source": [
    "m = folium.Map(location=[51.05, 5.86],zoom_start=3)"
   ]
  },
  {
   "cell_type": "code",
   "execution_count": 186,
   "metadata": {},
   "outputs": [
    {
     "data": {
      "text/html": [
       "<div>\n",
       "<style scoped>\n",
       "    .dataframe tbody tr th:only-of-type {\n",
       "        vertical-align: middle;\n",
       "    }\n",
       "\n",
       "    .dataframe tbody tr th {\n",
       "        vertical-align: top;\n",
       "    }\n",
       "\n",
       "    .dataframe thead th {\n",
       "        text-align: right;\n",
       "    }\n",
       "</style>\n",
       "<table border=\"1\" class=\"dataframe\">\n",
       "  <thead>\n",
       "    <tr style=\"text-align: right;\">\n",
       "      <th></th>\n",
       "      <th>NAME</th>\n",
       "      <th>GEONAME</th>\n",
       "    </tr>\n",
       "  </thead>\n",
       "  <tbody>\n",
       "    <tr>\n",
       "      <th>0</th>\n",
       "      <td>Taiwan</td>\n",
       "      <td>Taiwan</td>\n",
       "    </tr>\n",
       "    <tr>\n",
       "      <th>1</th>\n",
       "      <td>Afghanistan</td>\n",
       "      <td>Afghanistan</td>\n",
       "    </tr>\n",
       "    <tr>\n",
       "      <th>2</th>\n",
       "      <td>Albania</td>\n",
       "      <td>Albania</td>\n",
       "    </tr>\n",
       "    <tr>\n",
       "      <th>3</th>\n",
       "      <td>Algeria</td>\n",
       "      <td>Algeria</td>\n",
       "    </tr>\n",
       "    <tr>\n",
       "      <th>4</th>\n",
       "      <td>American Samoa</td>\n",
       "      <td>American Samoa</td>\n",
       "    </tr>\n",
       "  </tbody>\n",
       "</table>\n",
       "</div>"
      ],
      "text/plain": [
       "             NAME         GEONAME\n",
       "0          Taiwan          Taiwan\n",
       "1     Afghanistan     Afghanistan\n",
       "2         Albania         Albania\n",
       "3         Algeria         Algeria\n",
       "4  American Samoa  American Samoa"
      ]
     },
     "execution_count": 186,
     "metadata": {},
     "output_type": "execute_result"
    }
   ],
   "source": [
    "countriesLastfm = pd.read_csv('countries_cut_two.csv', sep = ';',encoding='latin-1')\n",
    "countriesLastfm = countriesLastfm.drop(columns = ['COUNTRY'], axis = 1)\n",
    "topArtists = pd.read_csv('CompleteArtists.csv', sep = ';')\n",
    "topArtists = topArtists.drop(columns = ['Unnamed: 0'])\n",
    "topArtists.head()\n",
    "countriesLastfm.head()"
   ]
  },
  {
   "cell_type": "code",
   "execution_count": 214,
   "metadata": {
    "scrolled": true
   },
   "outputs": [],
   "source": [
    "Geoname = [None] * (topArtists['Country'].count())\n",
    "zmena = countriesLastfm['NAME'] != countriesLastfm['GEONAME']\n",
    "countriesLastfm[zmena]\n",
    "dct = {}\n",
    "for name, name2 in zip(countriesLastfm['NAME'], countriesLastfm['GEONAME']):\n",
    "    dct[name] = name2\n",
    " \n",
    "\n"
   ]
  },
  {
   "cell_type": "code",
   "execution_count": 189,
   "metadata": {},
   "outputs": [],
   "source": [
    "topArtists = topArtists.replace(dct)"
   ]
  },
  {
   "cell_type": "markdown",
   "metadata": {},
   "source": [
    "Editing some of the names in Geopandas dataframe due to different country naming conventions: create a dictionary."
   ]
  },
  {
   "cell_type": "code",
   "execution_count": 190,
   "metadata": {},
   "outputs": [],
   "source": [
    "rankNad10 = topArtists['Rank'] <= 10\n",
    "rankNad20 = topArtists['Rank'] <= 20"
   ]
  },
  {
   "cell_type": "code",
   "execution_count": 191,
   "metadata": {},
   "outputs": [],
   "source": [
    "top10Artists = topArtists[rankNad10]\n",
    "top20Artists = topArtists[rankNad20]"
   ]
  },
  {
   "cell_type": "code",
   "execution_count": 192,
   "metadata": {},
   "outputs": [
    {
     "data": {
      "text/html": [
       "<div>\n",
       "<style scoped>\n",
       "    .dataframe tbody tr th:only-of-type {\n",
       "        vertical-align: middle;\n",
       "    }\n",
       "\n",
       "    .dataframe tbody tr th {\n",
       "        vertical-align: top;\n",
       "    }\n",
       "\n",
       "    .dataframe thead th {\n",
       "        text-align: right;\n",
       "    }\n",
       "</style>\n",
       "<table border=\"1\" class=\"dataframe\">\n",
       "  <thead>\n",
       "    <tr style=\"text-align: right;\">\n",
       "      <th></th>\n",
       "      <th>Country</th>\n",
       "      <th>Rank</th>\n",
       "      <th>Artist</th>\n",
       "      <th>Scrobbles</th>\n",
       "    </tr>\n",
       "  </thead>\n",
       "  <tbody>\n",
       "    <tr>\n",
       "      <th>0</th>\n",
       "      <td>Taiwan</td>\n",
       "      <td>1</td>\n",
       "      <td>Coldplay</td>\n",
       "      <td>5486719</td>\n",
       "    </tr>\n",
       "    <tr>\n",
       "      <th>1</th>\n",
       "      <td>Taiwan</td>\n",
       "      <td>2</td>\n",
       "      <td>Adele</td>\n",
       "      <td>2939052</td>\n",
       "    </tr>\n",
       "    <tr>\n",
       "      <th>2</th>\n",
       "      <td>Taiwan</td>\n",
       "      <td>3</td>\n",
       "      <td>Ed Sheeran</td>\n",
       "      <td>1770632</td>\n",
       "    </tr>\n",
       "    <tr>\n",
       "      <th>3</th>\n",
       "      <td>Taiwan</td>\n",
       "      <td>4</td>\n",
       "      <td>Sia</td>\n",
       "      <td>2214287</td>\n",
       "    </tr>\n",
       "    <tr>\n",
       "      <th>4</th>\n",
       "      <td>Taiwan</td>\n",
       "      <td>5</td>\n",
       "      <td>Maroon 5</td>\n",
       "      <td>3609286</td>\n",
       "    </tr>\n",
       "  </tbody>\n",
       "</table>\n",
       "</div>"
      ],
      "text/plain": [
       "  Country  Rank      Artist  Scrobbles\n",
       "0  Taiwan     1    Coldplay    5486719\n",
       "1  Taiwan     2       Adele    2939052\n",
       "2  Taiwan     3  Ed Sheeran    1770632\n",
       "3  Taiwan     4         Sia    2214287\n",
       "4  Taiwan     5    Maroon 5    3609286"
      ]
     },
     "execution_count": 192,
     "metadata": {},
     "output_type": "execute_result"
    }
   ],
   "source": [
    "top10Artists.head()"
   ]
  },
  {
   "cell_type": "code",
   "execution_count": 193,
   "metadata": {
    "scrolled": false
   },
   "outputs": [
    {
     "data": {
      "text/html": [
       "<div>\n",
       "<style scoped>\n",
       "    .dataframe tbody tr th:only-of-type {\n",
       "        vertical-align: middle;\n",
       "    }\n",
       "\n",
       "    .dataframe tbody tr th {\n",
       "        vertical-align: top;\n",
       "    }\n",
       "\n",
       "    .dataframe thead th {\n",
       "        text-align: right;\n",
       "    }\n",
       "</style>\n",
       "<table border=\"1\" class=\"dataframe\">\n",
       "  <thead>\n",
       "    <tr style=\"text-align: right;\">\n",
       "      <th></th>\n",
       "      <th>Country</th>\n",
       "      <th>Rank</th>\n",
       "      <th>Artist</th>\n",
       "      <th>Scrobbles</th>\n",
       "    </tr>\n",
       "  </thead>\n",
       "  <tbody>\n",
       "    <tr>\n",
       "      <th>0</th>\n",
       "      <td>Taiwan</td>\n",
       "      <td>1</td>\n",
       "      <td>Coldplay</td>\n",
       "      <td>5486719</td>\n",
       "    </tr>\n",
       "    <tr>\n",
       "      <th>1</th>\n",
       "      <td>Taiwan</td>\n",
       "      <td>2</td>\n",
       "      <td>Adele</td>\n",
       "      <td>2939052</td>\n",
       "    </tr>\n",
       "    <tr>\n",
       "      <th>2</th>\n",
       "      <td>Taiwan</td>\n",
       "      <td>3</td>\n",
       "      <td>Ed Sheeran</td>\n",
       "      <td>1770632</td>\n",
       "    </tr>\n",
       "    <tr>\n",
       "      <th>3</th>\n",
       "      <td>Taiwan</td>\n",
       "      <td>4</td>\n",
       "      <td>Sia</td>\n",
       "      <td>2214287</td>\n",
       "    </tr>\n",
       "    <tr>\n",
       "      <th>4</th>\n",
       "      <td>Taiwan</td>\n",
       "      <td>5</td>\n",
       "      <td>Maroon 5</td>\n",
       "      <td>3609286</td>\n",
       "    </tr>\n",
       "    <tr>\n",
       "      <th>5</th>\n",
       "      <td>Taiwan</td>\n",
       "      <td>6</td>\n",
       "      <td>Radiohead</td>\n",
       "      <td>4821070</td>\n",
       "    </tr>\n",
       "    <tr>\n",
       "      <th>6</th>\n",
       "      <td>Taiwan</td>\n",
       "      <td>7</td>\n",
       "      <td>Ariana Grande</td>\n",
       "      <td>1238796</td>\n",
       "    </tr>\n",
       "    <tr>\n",
       "      <th>7</th>\n",
       "      <td>Taiwan</td>\n",
       "      <td>8</td>\n",
       "      <td>The Chainsmokers</td>\n",
       "      <td>889190</td>\n",
       "    </tr>\n",
       "    <tr>\n",
       "      <th>8</th>\n",
       "      <td>Taiwan</td>\n",
       "      <td>9</td>\n",
       "      <td>Calvin Harris</td>\n",
       "      <td>2292220</td>\n",
       "    </tr>\n",
       "    <tr>\n",
       "      <th>9</th>\n",
       "      <td>Taiwan</td>\n",
       "      <td>10</td>\n",
       "      <td>The Weeknd</td>\n",
       "      <td>1401285</td>\n",
       "    </tr>\n",
       "  </tbody>\n",
       "</table>\n",
       "</div>"
      ],
      "text/plain": [
       "  Country  Rank            Artist  Scrobbles\n",
       "0  Taiwan     1          Coldplay    5486719\n",
       "1  Taiwan     2             Adele    2939052\n",
       "2  Taiwan     3        Ed Sheeran    1770632\n",
       "3  Taiwan     4               Sia    2214287\n",
       "4  Taiwan     5          Maroon 5    3609286\n",
       "5  Taiwan     6         Radiohead    4821070\n",
       "6  Taiwan     7     Ariana Grande    1238796\n",
       "7  Taiwan     8  The Chainsmokers     889190\n",
       "8  Taiwan     9     Calvin Harris    2292220\n",
       "9  Taiwan    10        The Weeknd    1401285"
      ]
     },
     "execution_count": 193,
     "metadata": {},
     "output_type": "execute_result"
    }
   ],
   "source": [
    "top10Artists[top10Artists['Country']=='Taiwan']"
   ]
  },
  {
   "cell_type": "code",
   "execution_count": 194,
   "metadata": {},
   "outputs": [
    {
     "data": {
      "text/html": [
       "<div>\n",
       "<style scoped>\n",
       "    .dataframe tbody tr th:only-of-type {\n",
       "        vertical-align: middle;\n",
       "    }\n",
       "\n",
       "    .dataframe tbody tr th {\n",
       "        vertical-align: top;\n",
       "    }\n",
       "\n",
       "    .dataframe thead th {\n",
       "        text-align: right;\n",
       "    }\n",
       "</style>\n",
       "<table border=\"1\" class=\"dataframe\">\n",
       "  <thead>\n",
       "    <tr style=\"text-align: right;\">\n",
       "      <th></th>\n",
       "      <th>geometry</th>\n",
       "      <th>ADMIN</th>\n",
       "      <th>ISO_A3</th>\n",
       "    </tr>\n",
       "  </thead>\n",
       "  <tbody>\n",
       "    <tr>\n",
       "      <th>0</th>\n",
       "      <td>POLYGON ((-69.99694 12.57758, -69.93639 12.531...</td>\n",
       "      <td>Aruba</td>\n",
       "      <td>ABW</td>\n",
       "    </tr>\n",
       "    <tr>\n",
       "      <th>1</th>\n",
       "      <td>POLYGON ((71.04980 38.40866, 71.05714 38.40903...</td>\n",
       "      <td>Afghanistan</td>\n",
       "      <td>AFG</td>\n",
       "    </tr>\n",
       "    <tr>\n",
       "      <th>2</th>\n",
       "      <td>MULTIPOLYGON (((11.73752 -16.69258, 11.73851 -...</td>\n",
       "      <td>Angola</td>\n",
       "      <td>AGO</td>\n",
       "    </tr>\n",
       "    <tr>\n",
       "      <th>3</th>\n",
       "      <td>MULTIPOLYGON (((-63.03767 18.21296, -63.09952 ...</td>\n",
       "      <td>Anguilla</td>\n",
       "      <td>AIA</td>\n",
       "    </tr>\n",
       "    <tr>\n",
       "      <th>4</th>\n",
       "      <td>POLYGON ((19.74777 42.57890, 19.74601 42.57993...</td>\n",
       "      <td>Albania</td>\n",
       "      <td>ALB</td>\n",
       "    </tr>\n",
       "  </tbody>\n",
       "</table>\n",
       "</div>"
      ],
      "text/plain": [
       "                                            geometry        ADMIN ISO_A3\n",
       "0  POLYGON ((-69.99694 12.57758, -69.93639 12.531...        Aruba    ABW\n",
       "1  POLYGON ((71.04980 38.40866, 71.05714 38.40903...  Afghanistan    AFG\n",
       "2  MULTIPOLYGON (((11.73752 -16.69258, 11.73851 -...       Angola    AGO\n",
       "3  MULTIPOLYGON (((-63.03767 18.21296, -63.09952 ...     Anguilla    AIA\n",
       "4  POLYGON ((19.74777 42.57890, 19.74601 42.57993...      Albania    ALB"
      ]
     },
     "execution_count": 194,
     "metadata": {},
     "output_type": "execute_result"
    }
   ],
   "source": [
    "df.head()"
   ]
  },
  {
   "cell_type": "code",
   "execution_count": 211,
   "metadata": {},
   "outputs": [],
   "source": [
    "cols = ['Top ' + str(i+1) for i in range(10)]\n",
    "artists = ['Artist ' + str(i+1) for i in range(10)]\n",
    "for i in range(len(artists)):\n",
    "    df['Top '+ str(i+1)] = str(None)"
   ]
  },
  {
   "cell_type": "code",
   "execution_count": 212,
   "metadata": {},
   "outputs": [
    {
     "name": "stderr",
     "output_type": "stream",
     "text": [
      "C:\\Users\\matej\\Anaconda3\\lib\\site-packages\\ipykernel_launcher.py:4: UserWarning: Boolean Series key will be reindexed to match DataFrame index.\n",
      "  after removing the cwd from sys.path.\n",
      "C:\\Users\\matej\\Anaconda3\\lib\\site-packages\\ipykernel_launcher.py:4: FutureWarning: `item` has been deprecated and will be removed in a future version\n",
      "  after removing the cwd from sys.path.\n",
      "C:\\Users\\matej\\Anaconda3\\lib\\site-packages\\ipykernel_launcher.py:4: SettingWithCopyWarning: \n",
      "A value is trying to be set on a copy of a slice from a DataFrame\n",
      "\n",
      "See the caveats in the documentation: http://pandas.pydata.org/pandas-docs/stable/user_guide/indexing.html#returning-a-view-versus-a-copy\n",
      "  after removing the cwd from sys.path.\n"
     ]
    }
   ],
   "source": [
    "for cntry in top10Artists['Country']:\n",
    "    for i in range(10):\n",
    "        try:\n",
    "            df['Top ' + str(i+1)][df['ADMIN']==cntry] = top10Artists[top10Artists['Country']==cntry][top10Artists['Rank']==i+1]['Artist'].item()\n",
    "        except:\n",
    "            pass"
   ]
  },
  {
   "cell_type": "code",
   "execution_count": 206,
   "metadata": {
    "scrolled": false
   },
   "outputs": [
    {
     "data": {
      "text/html": [
       "<div>\n",
       "<style scoped>\n",
       "    .dataframe tbody tr th:only-of-type {\n",
       "        vertical-align: middle;\n",
       "    }\n",
       "\n",
       "    .dataframe tbody tr th {\n",
       "        vertical-align: top;\n",
       "    }\n",
       "\n",
       "    .dataframe thead th {\n",
       "        text-align: right;\n",
       "    }\n",
       "</style>\n",
       "<table border=\"1\" class=\"dataframe\">\n",
       "  <thead>\n",
       "    <tr style=\"text-align: right;\">\n",
       "      <th></th>\n",
       "      <th>geometry</th>\n",
       "      <th>ADMIN</th>\n",
       "      <th>ISO_A3</th>\n",
       "      <th>Top 1</th>\n",
       "      <th>Top 2</th>\n",
       "      <th>Top 3</th>\n",
       "      <th>Top 4</th>\n",
       "      <th>Top 5</th>\n",
       "      <th>Top 6</th>\n",
       "      <th>Top 7</th>\n",
       "      <th>Top 8</th>\n",
       "      <th>Top 9</th>\n",
       "      <th>Top 10</th>\n",
       "    </tr>\n",
       "  </thead>\n",
       "  <tbody>\n",
       "    <tr>\n",
       "      <th>0</th>\n",
       "      <td>POLYGON ((-69.99694 12.57758, -69.93639 12.531...</td>\n",
       "      <td>Aruba</td>\n",
       "      <td>ABW</td>\n",
       "      <td>Beyoncé</td>\n",
       "      <td>Michael Jackson</td>\n",
       "      <td>Calvin Harris</td>\n",
       "      <td>Major Lazer</td>\n",
       "      <td>Pitbull</td>\n",
       "      <td>The Chainsmokers</td>\n",
       "      <td>Marvin Gaye</td>\n",
       "      <td>The Beatles</td>\n",
       "      <td>Kanye West</td>\n",
       "      <td>Rihanna</td>\n",
       "    </tr>\n",
       "    <tr>\n",
       "      <th>1</th>\n",
       "      <td>POLYGON ((71.04980 38.40866, 71.05714 38.40903...</td>\n",
       "      <td>Afghanistan</td>\n",
       "      <td>AFG</td>\n",
       "      <td>The xx</td>\n",
       "      <td>The Beatles</td>\n",
       "      <td>Radiohead</td>\n",
       "      <td>Pink Floyd</td>\n",
       "      <td>Lana Del Rey</td>\n",
       "      <td>Metallica</td>\n",
       "      <td>Nirvana</td>\n",
       "      <td>Drake</td>\n",
       "      <td>blink-182</td>\n",
       "      <td>Katy Perry</td>\n",
       "    </tr>\n",
       "    <tr>\n",
       "      <th>2</th>\n",
       "      <td>MULTIPOLYGON (((11.73752 -16.69258, 11.73851 -...</td>\n",
       "      <td>Angola</td>\n",
       "      <td>AGO</td>\n",
       "      <td>Lady Gaga</td>\n",
       "      <td>Rihanna</td>\n",
       "      <td>Sia</td>\n",
       "      <td>Ariana Grande</td>\n",
       "      <td>Beyoncé</td>\n",
       "      <td>Adele</td>\n",
       "      <td>The Weeknd</td>\n",
       "      <td>Justin Bieber</td>\n",
       "      <td>Lana Del Rey</td>\n",
       "      <td>Florence + the Machine</td>\n",
       "    </tr>\n",
       "    <tr>\n",
       "      <th>3</th>\n",
       "      <td>MULTIPOLYGON (((-63.03767 18.21296, -63.09952 ...</td>\n",
       "      <td>Anguilla</td>\n",
       "      <td>AIA</td>\n",
       "      <td>Bon Iver</td>\n",
       "      <td>The Weeknd</td>\n",
       "      <td>Sia</td>\n",
       "      <td>Ellie Goulding</td>\n",
       "      <td>Post Malone</td>\n",
       "      <td>Selena Gomez</td>\n",
       "      <td>Justin Bieber</td>\n",
       "      <td>Shawn Mendes</td>\n",
       "      <td>Years &amp; Years</td>\n",
       "      <td>Charlie Puth</td>\n",
       "    </tr>\n",
       "    <tr>\n",
       "      <th>4</th>\n",
       "      <td>POLYGON ((19.74777 42.57890, 19.74601 42.57993...</td>\n",
       "      <td>Albania</td>\n",
       "      <td>ALB</td>\n",
       "      <td>The Weeknd</td>\n",
       "      <td>Radiohead</td>\n",
       "      <td>Coldplay</td>\n",
       "      <td>Daft Punk</td>\n",
       "      <td>David Bowie</td>\n",
       "      <td>The Beatles</td>\n",
       "      <td>The xx</td>\n",
       "      <td>Arctic Monkeys</td>\n",
       "      <td>Red Hot Chili Peppers</td>\n",
       "      <td>Queen</td>\n",
       "    </tr>\n",
       "  </tbody>\n",
       "</table>\n",
       "</div>"
      ],
      "text/plain": [
       "                                            geometry        ADMIN ISO_A3  \\\n",
       "0  POLYGON ((-69.99694 12.57758, -69.93639 12.531...        Aruba    ABW   \n",
       "1  POLYGON ((71.04980 38.40866, 71.05714 38.40903...  Afghanistan    AFG   \n",
       "2  MULTIPOLYGON (((11.73752 -16.69258, 11.73851 -...       Angola    AGO   \n",
       "3  MULTIPOLYGON (((-63.03767 18.21296, -63.09952 ...     Anguilla    AIA   \n",
       "4  POLYGON ((19.74777 42.57890, 19.74601 42.57993...      Albania    ALB   \n",
       "\n",
       "        Top 1            Top 2          Top 3           Top 4         Top 5  \\\n",
       "0     Beyoncé  Michael Jackson  Calvin Harris     Major Lazer       Pitbull   \n",
       "1      The xx      The Beatles      Radiohead      Pink Floyd  Lana Del Rey   \n",
       "2   Lady Gaga          Rihanna            Sia   Ariana Grande       Beyoncé   \n",
       "3    Bon Iver       The Weeknd            Sia  Ellie Goulding   Post Malone   \n",
       "4  The Weeknd        Radiohead       Coldplay       Daft Punk   David Bowie   \n",
       "\n",
       "              Top 6          Top 7           Top 8                  Top 9  \\\n",
       "0  The Chainsmokers    Marvin Gaye     The Beatles             Kanye West   \n",
       "1         Metallica        Nirvana           Drake              blink-182   \n",
       "2             Adele     The Weeknd   Justin Bieber           Lana Del Rey   \n",
       "3      Selena Gomez  Justin Bieber    Shawn Mendes          Years & Years   \n",
       "4       The Beatles         The xx  Arctic Monkeys  Red Hot Chili Peppers   \n",
       "\n",
       "                   Top 10  \n",
       "0                 Rihanna  \n",
       "1              Katy Perry  \n",
       "2  Florence + the Machine  \n",
       "3            Charlie Puth  \n",
       "4                   Queen  "
      ]
     },
     "execution_count": 206,
     "metadata": {},
     "output_type": "execute_result"
    }
   ],
   "source": [
    "df.head()"
   ]
  },
  {
   "cell_type": "code",
   "execution_count": 207,
   "metadata": {},
   "outputs": [],
   "source": [
    "m = folium.Map(location=[51.05, 5.86], zoom_start=3)"
   ]
  },
  {
   "cell_type": "code",
   "execution_count": 208,
   "metadata": {},
   "outputs": [
    {
     "data": {
      "text/plain": [
       "<folium.features.GeoJson at 0x203d032cd30>"
      ]
     },
     "execution_count": 208,
     "metadata": {},
     "output_type": "execute_result"
    }
   ],
   "source": [
    "folium.GeoJson(\n",
    "    df[['ADMIN', 'geometry'] + cols].to_json(),\n",
    "    show=True,\n",
    "    tooltip=folium.features.GeoJsonTooltip(\n",
    "        fields=['ADMIN'] + cols,\n",
    "        aliases=['Country'] + cols)\n",
    ").add_to(m)"
   ]
  },
  {
   "cell_type": "markdown",
   "metadata": {},
   "source": [
    "Unfortunately the map cannot be displayed in Jupyter notebook, but with help of _webbrowser_ library, we can save the output as html file and open it in a new window."
   ]
  },
  {
   "cell_type": "code",
   "execution_count": 209,
   "metadata": {},
   "outputs": [],
   "source": [
    "m.save('Top10Artists.html')"
   ]
  },
  {
   "cell_type": "code",
   "execution_count": 210,
   "metadata": {
    "scrolled": true
   },
   "outputs": [
    {
     "data": {
      "text/plain": [
       "True"
      ]
     },
     "execution_count": 210,
     "metadata": {},
     "output_type": "execute_result"
    }
   ],
   "source": [
    "webbrowser.open_new('Top10Artists.html')"
   ]
  },
  {
   "cell_type": "code",
   "execution_count": null,
   "metadata": {},
   "outputs": [],
   "source": []
  },
  {
   "cell_type": "code",
   "execution_count": null,
   "metadata": {},
   "outputs": [],
   "source": []
  },
  {
   "cell_type": "code",
   "execution_count": null,
   "metadata": {},
   "outputs": [],
   "source": []
  },
  {
   "cell_type": "code",
   "execution_count": null,
   "metadata": {},
   "outputs": [],
   "source": []
  }
 ],
 "metadata": {
  "hide_input": false,
  "kernelspec": {
   "display_name": "Python 3",
   "language": "python",
   "name": "python3"
  },
  "language_info": {
   "codemirror_mode": {
    "name": "ipython",
    "version": 3
   },
   "file_extension": ".py",
   "mimetype": "text/x-python",
   "name": "python",
   "nbconvert_exporter": "python",
   "pygments_lexer": "ipython3",
   "version": "3.7.3"
  }
 },
 "nbformat": 4,
 "nbformat_minor": 2
}
