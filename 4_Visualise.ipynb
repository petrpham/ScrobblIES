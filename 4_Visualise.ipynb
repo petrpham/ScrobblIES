{
 "cells": [
  {
   "cell_type": "code",
   "execution_count": 1,
   "metadata": {},
   "outputs": [],
   "source": [
    "import os"
   ]
  },
  {
   "cell_type": "code",
   "execution_count": 2,
   "metadata": {},
   "outputs": [],
   "source": [
    "import pandas as pd"
   ]
  },
  {
   "cell_type": "code",
   "execution_count": 3,
   "metadata": {},
   "outputs": [],
   "source": [
    "import folium"
   ]
  },
  {
   "cell_type": "code",
   "execution_count": 4,
   "metadata": {},
   "outputs": [],
   "source": [
    "import geopandas as gpd"
   ]
  },
  {
   "cell_type": "code",
   "execution_count": 5,
   "metadata": {},
   "outputs": [],
   "source": [
    "import webbrowser"
   ]
  },
  {
   "cell_type": "code",
   "execution_count": 6,
   "metadata": {},
   "outputs": [],
   "source": [
    "import geojson"
   ]
  },
  {
   "cell_type": "code",
   "execution_count": 7,
   "metadata": {},
   "outputs": [],
   "source": [
    "import json"
   ]
  },
  {
   "cell_type": "code",
   "execution_count": 8,
   "metadata": {},
   "outputs": [],
   "source": [
    "from IPython.display import display"
   ]
  },
  {
   "cell_type": "code",
   "execution_count": 9,
   "metadata": {},
   "outputs": [],
   "source": [
    "class Visualise:\n",
    "    '''\n",
    "    Class representing processed data from previous parts with attributes and methods to make geo-visualisations.\n",
    "    '''\n",
    "    def __init__(self, allowLog = True):\n",
    "        '''\n",
    "        Initilization of Downloader object. Storing objects from the webpage with self.qwe, self.rty and self.uio\n",
    "        '''\n",
    "        self.allowLog = allowLog\n",
    "        if self.allowLog:\n",
    "            print('Object of data initialized.')    \n",
    "            \n",
    "    def countriesPolygon(self, geoDf):\n",
    "        '''\n",
    "        Pandas GeoDataframe containing the (multi-)polygons of countries.\n",
    "        '''\n",
    "        self.geoDf = geoDf\n",
    "    \n",
    "    def foliumMap(self, m = folium.Map(location=[51.05, 5.86],zoom_start=3)):\n",
    "        '''\n",
    "        Map from library Folium.\n",
    "        '''\n",
    "        self.m = m         \n",
    "    \n",
    "    def countriesDict(self, dct):\n",
    "        '''\n",
    "        Dictionary for different naming conventions of countries in the World\n",
    "        '''\n",
    "        self.dct = {}\n",
    "        for name, name2 in zip(dct['NAME'], dct['GEONAME']):\n",
    "            self.dct[name] = name2\n",
    "        #return self.dct\n",
    "        # now the special care for a country with symbol ' in its name\n",
    "        self.dct['Cote D\\'Ivoire'] = 'Ivory Coast'\n",
    "        self.data = self.data.replace(dct)\n",
    "        \n",
    "    def loadTheData(self, data, whatData = 'GeoTopArtist'):\n",
    "        '''\n",
    "        Loader of the data. First argument is the data provided, second is specification about what type of data it is.\n",
    "        '''\n",
    "        self.data = data\n",
    "        self.whatData = whatData\n",
    "        if whatData == 'GeoTopArtist':\n",
    "            pass\n",
    "        elif whatData == 'GeoTopTracks':\n",
    "            pass\n",
    "        elif whatData == 'ArtistInfo':\n",
    "            pass\n",
    "        else:\n",
    "            return(print('I cannot recognize the type of data you want to pass. Select please from one of the following: \\n\\\"GeoTopArtist\\\" \\n\\\"GeoTopTracks\\\" \\n\\\"ArtistInfo\\\" \\nThank you very much!'))\n",
    "        \n",
    "    def showMeTopN(self, N = 10, whichOnes = 'Artists' ):\n",
    "        '''\n",
    "        Method which computes the top N artists for all countries contained in the scraped data.\n",
    "        '''\n",
    "        boundary = self.data['Rank'] <= N\n",
    "        self.data = self.data.replace(self.dct)\n",
    "        self.cols = ['Top ' + str(i+1) for i in range(N)]\n",
    "        self.whichOnes = whichOnes\n",
    "        if whichOnes == 'Artists':\n",
    "            for i in range(N):\n",
    "                self.geoDf['Top '+ str(i+1)] = str(None)\n",
    "            self.topNArtists = self.data[boundary]\n",
    "            for cntry in self.topNArtists['Country']:\n",
    "                for i in range(N):\n",
    "                    try:\n",
    "                        self.geoDf['Top ' + str(i+1)][self.geoDf['ADMIN']==cntry] = self.topNArtists[self.topNArtists['Country']==cntry][self.topNArtists['Rank']==i+1]['Artist'].item()\n",
    "                    except:\n",
    "                        pass\n",
    "            return self.geoDf                               \n",
    "        elif whichOnes == 'Tracks':\n",
    "            for i in range(N):\n",
    "                self.geoDf['Top '+ str(i+1)] = str(None)\n",
    "            self.topNTracks = self.data[boundary]    \n",
    "            for cntry in self.topNTracks['Country']:\n",
    "                for i in range(N):\n",
    "                    try:\n",
    "                        self.geoDf['Top ' + str(i+1)][self.geoDf['ADMIN']==cntry] = self.topNTracks[self.topNTracks['Country']==cntry][self.topNTracks['Rank']==i+1]['ArtistTrack'].item() \n",
    "                    except:\n",
    "                        pass\n",
    "            return self.geoDf\n",
    "        else:\n",
    "            return(print('I cannot show you what you want..probably. Select please from one of the following: \\n\"Artists\" \\n\"Tracks\" \\nThank you very much!'))\n",
    "    \n",
    "    def saveAndShowMap(self, m, df):\n",
    "        '''\n",
    "        Method to save and show the map of top artists or tracks. The map is saved as 'plotTheMap.html' file which is shown in a new window.\n",
    "        '''\n",
    "        folium.GeoJson(\n",
    "                df[['ADMIN', 'geometry'] + self.cols].to_json(),\n",
    "                show=True,\n",
    "                tooltip=folium.features.GeoJsonTooltip(\n",
    "                fields=['ADMIN'] + self.cols,\n",
    "                aliases=['Country'] + self.cols)\n",
    "            ).add_to(m)\n",
    "        if self.whichOnes == 'Tracks':\n",
    "            self.m.save('plotTheTrackMap.html')\n",
    "            webbrowser.open_new('plotTheTrackMap.html')\n",
    "        else:\n",
    "            self.m.save('plotTheArtistMap.html')\n",
    "            webbrowser.open_new('plotTheArtistMap.html')"
   ]
  },
  {
   "cell_type": "code",
   "execution_count": 10,
   "metadata": {},
   "outputs": [],
   "source": [
    "with open('countries.geojson', 'r') as f:\n",
    "    data = geojson.load(f)"
   ]
  },
  {
   "cell_type": "code",
   "execution_count": 11,
   "metadata": {},
   "outputs": [],
   "source": [
    "with open('countries_cut_two.csv', 'r') as c:\n",
    "    cntrsDict = pd.read_csv(c, sep = ';')"
   ]
  },
  {
   "cell_type": "code",
   "execution_count": 26,
   "metadata": {},
   "outputs": [
    {
     "data": {
      "text/html": [
       "<div>\n",
       "<style scoped>\n",
       "    .dataframe tbody tr th:only-of-type {\n",
       "        vertical-align: middle;\n",
       "    }\n",
       "\n",
       "    .dataframe tbody tr th {\n",
       "        vertical-align: top;\n",
       "    }\n",
       "\n",
       "    .dataframe thead th {\n",
       "        text-align: right;\n",
       "    }\n",
       "</style>\n",
       "<table border=\"1\" class=\"dataframe\">\n",
       "  <thead>\n",
       "    <tr style=\"text-align: right;\">\n",
       "      <th></th>\n",
       "      <th>CountryId</th>\n",
       "      <th>Country</th>\n",
       "      <th>Rank</th>\n",
       "      <th>Artist</th>\n",
       "      <th>ArtistId</th>\n",
       "      <th>Listeners</th>\n",
       "    </tr>\n",
       "  </thead>\n",
       "  <tbody>\n",
       "    <tr>\n",
       "      <th>0</th>\n",
       "      <td>1</td>\n",
       "      <td>Taiwan</td>\n",
       "      <td>1.0</td>\n",
       "      <td>Coldplay</td>\n",
       "      <td>cc197bad-dc9c-440d-a5b5-d52ba2e14234</td>\n",
       "      <td>5487165.0</td>\n",
       "    </tr>\n",
       "    <tr>\n",
       "      <th>1</th>\n",
       "      <td>1</td>\n",
       "      <td>Taiwan</td>\n",
       "      <td>2.0</td>\n",
       "      <td>Adele</td>\n",
       "      <td>cc2c9c3c-b7bc-4b8b-84d8-4fbd8779e493</td>\n",
       "      <td>2939450.0</td>\n",
       "    </tr>\n",
       "    <tr>\n",
       "      <th>2</th>\n",
       "      <td>1</td>\n",
       "      <td>Taiwan</td>\n",
       "      <td>3.0</td>\n",
       "      <td>Ed Sheeran</td>\n",
       "      <td>b8a7c51f-362c-4dcb-a259-bc6e0095f0a6</td>\n",
       "      <td>1771082.0</td>\n",
       "    </tr>\n",
       "    <tr>\n",
       "      <th>3</th>\n",
       "      <td>1</td>\n",
       "      <td>Taiwan</td>\n",
       "      <td>4.0</td>\n",
       "      <td>Sia</td>\n",
       "      <td>2f548675-008d-4332-876c-108b0c7ab9c5</td>\n",
       "      <td>2214653.0</td>\n",
       "    </tr>\n",
       "    <tr>\n",
       "      <th>4</th>\n",
       "      <td>1</td>\n",
       "      <td>Taiwan</td>\n",
       "      <td>5.0</td>\n",
       "      <td>Maroon 5</td>\n",
       "      <td>0ab49580-c84f-44d4-875f-d83760ea2cfe</td>\n",
       "      <td>3609760.0</td>\n",
       "    </tr>\n",
       "  </tbody>\n",
       "</table>\n",
       "</div>"
      ],
      "text/plain": [
       "   CountryId Country  Rank      Artist                              ArtistId  \\\n",
       "0          1  Taiwan   1.0    Coldplay  cc197bad-dc9c-440d-a5b5-d52ba2e14234   \n",
       "1          1  Taiwan   2.0       Adele  cc2c9c3c-b7bc-4b8b-84d8-4fbd8779e493   \n",
       "2          1  Taiwan   3.0  Ed Sheeran  b8a7c51f-362c-4dcb-a259-bc6e0095f0a6   \n",
       "3          1  Taiwan   4.0         Sia  2f548675-008d-4332-876c-108b0c7ab9c5   \n",
       "4          1  Taiwan   5.0    Maroon 5  0ab49580-c84f-44d4-875f-d83760ea2cfe   \n",
       "\n",
       "   Listeners  \n",
       "0  5487165.0  \n",
       "1  2939450.0  \n",
       "2  1771082.0  \n",
       "3  2214653.0  \n",
       "4  3609760.0  "
      ]
     },
     "execution_count": 26,
     "metadata": {},
     "output_type": "execute_result"
    }
   ],
   "source": [
    "topArtists = pd.read_csv('geo_top_artists_101.csv', sep = ',')\n",
    "topArtists = topArtists.drop(columns = ['Unnamed: 0'])\n",
    "topArtists.head()"
   ]
  },
  {
   "cell_type": "code",
   "execution_count": 13,
   "metadata": {},
   "outputs": [
    {
     "name": "stdout",
     "output_type": "stream",
     "text": [
      "Object of data initialized.\n"
     ]
    }
   ],
   "source": [
    "artistViz = Visualise()\n",
    "artistViz.foliumMap()\n",
    "artistViz.countriesPolygon(gpd.GeoDataFrame.from_features(data))\n",
    "artistViz.loadTheData(topArtists) \n",
    "artistViz.countriesDict(cntrsDict)"
   ]
  },
  {
   "cell_type": "markdown",
   "metadata": {},
   "source": [
    "Unfortunately the map cannot be displayed in Jupyter notebook, but with help of webbrowser library, we can save the output as html file and open it in a new window."
   ]
  },
  {
   "cell_type": "code",
   "execution_count": 14,
   "metadata": {},
   "outputs": [
    {
     "name": "stderr",
     "output_type": "stream",
     "text": [
      "C:\\Users\\matej\\Anaconda3\\lib\\site-packages\\ipykernel_launcher.py:67: UserWarning: Boolean Series key will be reindexed to match DataFrame index.\n",
      "C:\\Users\\matej\\Anaconda3\\lib\\site-packages\\ipykernel_launcher.py:67: FutureWarning: `item` has been deprecated and will be removed in a future version\n",
      "C:\\Users\\matej\\Anaconda3\\lib\\site-packages\\ipykernel_launcher.py:67: SettingWithCopyWarning: \n",
      "A value is trying to be set on a copy of a slice from a DataFrame\n",
      "\n",
      "See the caveats in the documentation: http://pandas.pydata.org/pandas-docs/stable/user_guide/indexing.html#returning-a-view-versus-a-copy\n"
     ]
    }
   ],
   "source": [
    "artistViz.showMeTopN(N = 5, whichOnes = 'Artists')\n",
    "artistViz.saveAndShowMap(artistViz.m,artistViz.geoDf)"
   ]
  },
  {
   "cell_type": "code",
   "execution_count": 28,
   "metadata": {},
   "outputs": [
    {
     "data": {
      "text/html": [
       "<div>\n",
       "<style scoped>\n",
       "    .dataframe tbody tr th:only-of-type {\n",
       "        vertical-align: middle;\n",
       "    }\n",
       "\n",
       "    .dataframe tbody tr th {\n",
       "        vertical-align: top;\n",
       "    }\n",
       "\n",
       "    .dataframe thead th {\n",
       "        text-align: right;\n",
       "    }\n",
       "</style>\n",
       "<table border=\"1\" class=\"dataframe\">\n",
       "  <thead>\n",
       "    <tr style=\"text-align: right;\">\n",
       "      <th></th>\n",
       "      <th>CountryId</th>\n",
       "      <th>Country</th>\n",
       "      <th>Rank</th>\n",
       "      <th>Track</th>\n",
       "      <th>Duration</th>\n",
       "      <th>Artist</th>\n",
       "      <th>ArtistId</th>\n",
       "      <th>ArtistTrack</th>\n",
       "    </tr>\n",
       "  </thead>\n",
       "  <tbody>\n",
       "    <tr>\n",
       "      <th>0</th>\n",
       "      <td>1</td>\n",
       "      <td>Taiwan</td>\n",
       "      <td>1.0</td>\n",
       "      <td>Hello</td>\n",
       "      <td>0.0</td>\n",
       "      <td>Adele</td>\n",
       "      <td>cc2c9c3c-b7bc-4b8b-84d8-4fbd8779e493</td>\n",
       "      <td>Adele - Hello</td>\n",
       "    </tr>\n",
       "    <tr>\n",
       "      <th>1</th>\n",
       "      <td>1</td>\n",
       "      <td>Taiwan</td>\n",
       "      <td>2.0</td>\n",
       "      <td>Photograph</td>\n",
       "      <td>258.0</td>\n",
       "      <td>Ed Sheeran</td>\n",
       "      <td>b8a7c51f-362c-4dcb-a259-bc6e0095f0a6</td>\n",
       "      <td>Ed Sheeran - Photograph</td>\n",
       "    </tr>\n",
       "    <tr>\n",
       "      <th>2</th>\n",
       "      <td>1</td>\n",
       "      <td>Taiwan</td>\n",
       "      <td>3.0</td>\n",
       "      <td>Thinking Out Loud</td>\n",
       "      <td>280.0</td>\n",
       "      <td>Ed Sheeran</td>\n",
       "      <td>b8a7c51f-362c-4dcb-a259-bc6e0095f0a6</td>\n",
       "      <td>Ed Sheeran - Thinking Out Loud</td>\n",
       "    </tr>\n",
       "    <tr>\n",
       "      <th>3</th>\n",
       "      <td>1</td>\n",
       "      <td>Taiwan</td>\n",
       "      <td>4.0</td>\n",
       "      <td>Shape of You</td>\n",
       "      <td>0.0</td>\n",
       "      <td>Ed Sheeran</td>\n",
       "      <td>b8a7c51f-362c-4dcb-a259-bc6e0095f0a6</td>\n",
       "      <td>Ed Sheeran - Shape of You</td>\n",
       "    </tr>\n",
       "    <tr>\n",
       "      <th>4</th>\n",
       "      <td>1</td>\n",
       "      <td>Taiwan</td>\n",
       "      <td>5.0</td>\n",
       "      <td>The Scientist</td>\n",
       "      <td>309.0</td>\n",
       "      <td>Coldplay</td>\n",
       "      <td>cc197bad-dc9c-440d-a5b5-d52ba2e14234</td>\n",
       "      <td>Coldplay - The Scientist</td>\n",
       "    </tr>\n",
       "  </tbody>\n",
       "</table>\n",
       "</div>"
      ],
      "text/plain": [
       "   CountryId Country  Rank              Track  Duration      Artist  \\\n",
       "0          1  Taiwan   1.0              Hello       0.0       Adele   \n",
       "1          1  Taiwan   2.0         Photograph     258.0  Ed Sheeran   \n",
       "2          1  Taiwan   3.0  Thinking Out Loud     280.0  Ed Sheeran   \n",
       "3          1  Taiwan   4.0       Shape of You       0.0  Ed Sheeran   \n",
       "4          1  Taiwan   5.0      The Scientist     309.0    Coldplay   \n",
       "\n",
       "                               ArtistId                     ArtistTrack  \n",
       "0  cc2c9c3c-b7bc-4b8b-84d8-4fbd8779e493                   Adele - Hello  \n",
       "1  b8a7c51f-362c-4dcb-a259-bc6e0095f0a6         Ed Sheeran - Photograph  \n",
       "2  b8a7c51f-362c-4dcb-a259-bc6e0095f0a6  Ed Sheeran - Thinking Out Loud  \n",
       "3  b8a7c51f-362c-4dcb-a259-bc6e0095f0a6       Ed Sheeran - Shape of You  \n",
       "4  cc197bad-dc9c-440d-a5b5-d52ba2e14234        Coldplay - The Scientist  "
      ]
     },
     "execution_count": 28,
     "metadata": {},
     "output_type": "execute_result"
    }
   ],
   "source": [
    "topTracks = pd.read_csv('geo_top_tracks_101.csv', sep = ',')\n",
    "topTracks = topTracks.drop(columns = ['Unnamed: 0'])\n",
    "topTracks['ArtistTrack'] = topTracks['Artist'] + ' - ' + topTracks['Track']\n",
    "topTracks.head()"
   ]
  },
  {
   "cell_type": "code",
   "execution_count": 16,
   "metadata": {},
   "outputs": [
    {
     "name": "stdout",
     "output_type": "stream",
     "text": [
      "Object of data initialized.\n"
     ]
    }
   ],
   "source": [
    "tracksViz = Visualise()\n",
    "tracksViz.foliumMap()\n",
    "tracksViz.countriesPolygon(gpd.GeoDataFrame.from_features(data))\n",
    "tracksViz.loadTheData(topTracks) \n",
    "tracksViz.countriesDict(cntrsDict)"
   ]
  },
  {
   "cell_type": "markdown",
   "metadata": {},
   "source": [
    "Similarily as above: the map cannot be displayed in Jupyter notebook, but with help of webbrowser library, we can save the output as html file and open it in a new window."
   ]
  },
  {
   "cell_type": "code",
   "execution_count": 17,
   "metadata": {},
   "outputs": [
    {
     "name": "stderr",
     "output_type": "stream",
     "text": [
      "C:\\Users\\matej\\Anaconda3\\lib\\site-packages\\ipykernel_launcher.py:78: UserWarning: Boolean Series key will be reindexed to match DataFrame index.\n",
      "C:\\Users\\matej\\Anaconda3\\lib\\site-packages\\ipykernel_launcher.py:78: FutureWarning: `item` has been deprecated and will be removed in a future version\n",
      "C:\\Users\\matej\\Anaconda3\\lib\\site-packages\\ipykernel_launcher.py:78: SettingWithCopyWarning: \n",
      "A value is trying to be set on a copy of a slice from a DataFrame\n",
      "\n",
      "See the caveats in the documentation: http://pandas.pydata.org/pandas-docs/stable/user_guide/indexing.html#returning-a-view-versus-a-copy\n"
     ]
    }
   ],
   "source": [
    "tracksViz.showMeTopN(N = 5, whichOnes = 'Tracks')\n",
    "tracksViz.saveAndShowMap(tracksViz.m,tracksViz.geoDf)"
   ]
  },
  {
   "cell_type": "markdown",
   "metadata": {},
   "source": [
    "---"
   ]
  }
 ],
 "metadata": {
  "hide_input": false,
  "kernelspec": {
   "display_name": "Python 3",
   "language": "python",
   "name": "python3"
  },
  "language_info": {
   "codemirror_mode": {
    "name": "ipython",
    "version": 3
   },
   "file_extension": ".py",
   "mimetype": "text/x-python",
   "name": "python",
   "nbconvert_exporter": "python",
   "pygments_lexer": "ipython3",
   "version": "3.7.3"
  }
 },
 "nbformat": 4,
 "nbformat_minor": 2
}
