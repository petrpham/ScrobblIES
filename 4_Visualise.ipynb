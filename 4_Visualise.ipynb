{
 "cells": [
  {
   "cell_type": "code",
   "execution_count": 301,
   "metadata": {},
   "outputs": [],
   "source": [
    "import os"
   ]
  },
  {
   "cell_type": "code",
   "execution_count": 302,
   "metadata": {},
   "outputs": [],
   "source": [
    "import pandas as pd"
   ]
  },
  {
   "cell_type": "code",
   "execution_count": 303,
   "metadata": {},
   "outputs": [],
   "source": [
    "import folium"
   ]
  },
  {
   "cell_type": "code",
   "execution_count": 304,
   "metadata": {},
   "outputs": [],
   "source": [
    "import geopandas as gpd"
   ]
  },
  {
   "cell_type": "code",
   "execution_count": 305,
   "metadata": {},
   "outputs": [],
   "source": [
    "import webbrowser"
   ]
  },
  {
   "cell_type": "code",
   "execution_count": 306,
   "metadata": {},
   "outputs": [],
   "source": [
    "import geojson"
   ]
  },
  {
   "cell_type": "code",
   "execution_count": 307,
   "metadata": {},
   "outputs": [],
   "source": [
    "import json"
   ]
  },
  {
   "cell_type": "code",
   "execution_count": 308,
   "metadata": {},
   "outputs": [],
   "source": [
    "from IPython.display import display"
   ]
  },
  {
   "cell_type": "code",
   "execution_count": 366,
   "metadata": {},
   "outputs": [],
   "source": [
    "class Visualise:\n",
    "    '''\n",
    "    Class representing processed data from previous parts with attributes and methods to make geo-visualisations.\n",
    "    '''\n",
    "    def __init__(self, allowLog = True):\n",
    "        '''\n",
    "        Initilization of Downloader object. Storing objects from the webpage with self.qwe, self.rty and self.uio\n",
    "        '''\n",
    "        self.allowLog = allowLog\n",
    "        if self.allowLog:\n",
    "            print('Object of data initialized.')    \n",
    "            \n",
    "    def countriesPolygon(self, geoDf):\n",
    "        '''\n",
    "        Pandas GeoDataframe containing the (multi-)polygons of countries.\n",
    "        '''\n",
    "        self.geoDf = geoDf\n",
    "    \n",
    "    def foliumMap(self, m = folium.Map(location=[51.05, 5.86],zoom_start=3)):\n",
    "        '''\n",
    "        Map from library Folium.\n",
    "        '''\n",
    "        self.m = m         \n",
    "    \n",
    "    def countriesDict(self, dct):\n",
    "        '''\n",
    "        Dictionary for different naming conventions of countries in the World\n",
    "        '''\n",
    "        self.dct = {}\n",
    "        for name, name2 in zip(dct['NAME'], dct['GEONAME']):\n",
    "            self.dct[name] = name2\n",
    "        #return self.dct\n",
    "        # now the special care for a country with symbol ' in its name\n",
    "        self.dct['Cote D\\'Ivoire'] = 'Ivory Coast'\n",
    "        self.data = self.data.replace(dct)\n",
    "        \n",
    "    def loadTheData(self, data, whatData = 'GeoTopArtist'):\n",
    "        '''\n",
    "        Loader of the data. First argument is the data provided, second is specification about what type of data it is.\n",
    "        '''\n",
    "        self.data = data\n",
    "        self.whatData = whatData\n",
    "        if whatData == 'GeoTopArtist':\n",
    "            pass\n",
    "        elif whatData == 'GeoTopTracks':\n",
    "            pass\n",
    "        elif whatData == 'ArtistInfo':\n",
    "            pass\n",
    "        else:\n",
    "            return(print('I cannot recognize the type of data you want to pass. Select please from one of the following: \\n\\\"GeoTopArtist\\\" \\n\\\"GeoTopTracks\\\" \\n\\\"ArtistInfo\\\" \\nThank you very much!'))\n",
    "        \n",
    "    def showMeTopN(self, N = 10, whichOnes = 'Artists' ):\n",
    "        '''\n",
    "        Method which computes the top N artists for all countries contained in the scraped data.\n",
    "        '''\n",
    "        boundary = self.data['Rank'] <= N\n",
    "        self.data = self.data.replace(self.dct)\n",
    "        self.cols = ['Top ' + str(i+1) for i in range(N)]\n",
    "        if whichOnes == 'Artists':\n",
    "            for i in range(N):\n",
    "                self.geoDf['Top '+ str(i+1)] = str(None)\n",
    "            self.topNArtists = self.data[boundary]\n",
    "            for cntry in self.topNArtists['Country']:\n",
    "                for i in range(N):\n",
    "                    try:\n",
    "                        self.geoDf['Top ' + str(i+1)][self.geoDf['ADMIN']==cntry] = self.topNArtists[self.topNArtists['Country']==cntry][self.topNArtists['Rank']==i+1]['Artist'].item()\n",
    "                    except:\n",
    "                        pass\n",
    "            return self.geoDf                               \n",
    "        elif whichOnes == 'Tracks':\n",
    "            for i in range(N):\n",
    "                self.geoDf['Top '+ str(i+1)] = str(None)\n",
    "            self.topNTracks = self.data[boundary]    \n",
    "            for cntry in self.topNTracks['Country']:\n",
    "                for i in range(N):\n",
    "                    try:\n",
    "                        self.geoDf['Top ' + str(i+1)][self.geoDf['ADMIN']==cntry] = self.topNTracks[self.topNTracks['Country']==cntry][self.topNTracks['Rank']==i+1]['Track'].item()\n",
    "                    except:\n",
    "                        pass\n",
    "            return self.geoDf\n",
    "        else:\n",
    "            return(print('I cannot show you what you want..probably. Select please from one of the following: \\n\"Artists\" \\n\"Tracks\" \\nThank you very much!'))\n",
    "    \n",
    "    def saveAndShowMap(self, m, df):\n",
    "        '''\n",
    "        Method to save and show the map of top artists or tracks. The map is saved as 'plotTheMap.html' file which is shown in a new window.\n",
    "        '''\n",
    "        folium.GeoJson(\n",
    "                df[['ADMIN', 'geometry'] + self.cols].to_json(),\n",
    "                show=True,\n",
    "                tooltip=folium.features.GeoJsonTooltip(\n",
    "                fields=['ADMIN'] + self.cols,\n",
    "                aliases=['Country'] + self.cols)\n",
    "            ).add_to(m)\n",
    "        self.m.save('plotTheMap.html')\n",
    "        webbrowser.open_new('plotTheMap.html')"
   ]
  },
  {
   "cell_type": "markdown",
   "metadata": {},
   "source": [
    "pedro 4:54 PM\n",
    "\n",
    "self.DfGeoTopArtists = pd.DataFrame(columns=['CountryId', 'Country', 'Rank', 'Artist', 'ArtistId', 'Listeners'])\n",
    "\n",
    "self.DfGeoTopTracks = pd.DataFrame(columns=['CountryId', 'Country', 'Rank', 'Track', 'Duration', 'Artist', 'ArtistId'])\n",
    "        \n",
    "self.DfArtistInfo = pd.DataFrame(columns=['ArtistId', 'Artist', 'Listeners', 'Scrobbles', 'Tag1', 'Tag2', 'Tag3', 'Tag4', 'Tag5'])"
   ]
  },
  {
   "cell_type": "code",
   "execution_count": 360,
   "metadata": {},
   "outputs": [],
   "source": [
    "with open('countries.geojson', 'r') as f:\n",
    "    data = geojson.load(f)"
   ]
  },
  {
   "cell_type": "code",
   "execution_count": 361,
   "metadata": {},
   "outputs": [],
   "source": [
    "with open('countries_cut_two.csv', 'r') as c:\n",
    "    cntrsDict = pd.read_csv(c, sep = ';')"
   ]
  },
  {
   "cell_type": "code",
   "execution_count": 367,
   "metadata": {},
   "outputs": [
    {
     "name": "stdout",
     "output_type": "stream",
     "text": [
      "Object of data initialized.\n"
     ]
    },
    {
     "name": "stderr",
     "output_type": "stream",
     "text": [
      "C:\\Users\\matej\\Anaconda3\\lib\\site-packages\\ipykernel_launcher.py:66: UserWarning: Boolean Series key will be reindexed to match DataFrame index.\n",
      "C:\\Users\\matej\\Anaconda3\\lib\\site-packages\\ipykernel_launcher.py:66: FutureWarning: `item` has been deprecated and will be removed in a future version\n",
      "C:\\Users\\matej\\Anaconda3\\lib\\site-packages\\ipykernel_launcher.py:66: SettingWithCopyWarning: \n",
      "A value is trying to be set on a copy of a slice from a DataFrame\n",
      "\n",
      "See the caveats in the documentation: http://pandas.pydata.org/pandas-docs/stable/user_guide/indexing.html#returning-a-view-versus-a-copy\n"
     ]
    }
   ],
   "source": [
    "newPD = Visualise()\n",
    "newPD.foliumMap()\n",
    "newPD.countriesPolygon(gpd.GeoDataFrame.from_features(data))\n",
    "newPD.loadTheData(topArtists) # sem budu dávat data od Pedra\n",
    "newPD.countriesDict(cntrsDict)\n",
    "#newPD.dct\n",
    "\n",
    "newPD.showMeTopN(N = 10, whichOnes = 'Artists')\n",
    "newPD.saveAndShowMap(newPD.m,newPD.geoDf)\n",
    "#newPD.data"
   ]
  },
  {
   "cell_type": "markdown",
   "metadata": {},
   "source": [
    "---"
   ]
  },
  {
   "cell_type": "markdown",
   "metadata": {},
   "source": [
    "### Debugging and testing"
   ]
  },
  {
   "cell_type": "code",
   "execution_count": 353,
   "metadata": {},
   "outputs": [
    {
     "data": {
      "text/html": [
       "<div>\n",
       "<style scoped>\n",
       "    .dataframe tbody tr th:only-of-type {\n",
       "        vertical-align: middle;\n",
       "    }\n",
       "\n",
       "    .dataframe tbody tr th {\n",
       "        vertical-align: top;\n",
       "    }\n",
       "\n",
       "    .dataframe thead th {\n",
       "        text-align: right;\n",
       "    }\n",
       "</style>\n",
       "<table border=\"1\" class=\"dataframe\">\n",
       "  <thead>\n",
       "    <tr style=\"text-align: right;\">\n",
       "      <th></th>\n",
       "      <th>Country</th>\n",
       "      <th>Rank</th>\n",
       "      <th>Artist</th>\n",
       "      <th>Scrobbles</th>\n",
       "    </tr>\n",
       "  </thead>\n",
       "  <tbody>\n",
       "    <tr>\n",
       "      <th>0</th>\n",
       "      <td>Taiwan</td>\n",
       "      <td>1</td>\n",
       "      <td>Coldplay</td>\n",
       "      <td>5486719</td>\n",
       "    </tr>\n",
       "    <tr>\n",
       "      <th>1</th>\n",
       "      <td>Taiwan</td>\n",
       "      <td>2</td>\n",
       "      <td>Adele</td>\n",
       "      <td>2939052</td>\n",
       "    </tr>\n",
       "    <tr>\n",
       "      <th>2</th>\n",
       "      <td>Taiwan</td>\n",
       "      <td>3</td>\n",
       "      <td>Ed Sheeran</td>\n",
       "      <td>1770632</td>\n",
       "    </tr>\n",
       "    <tr>\n",
       "      <th>3</th>\n",
       "      <td>Taiwan</td>\n",
       "      <td>4</td>\n",
       "      <td>Sia</td>\n",
       "      <td>2214287</td>\n",
       "    </tr>\n",
       "    <tr>\n",
       "      <th>4</th>\n",
       "      <td>Taiwan</td>\n",
       "      <td>5</td>\n",
       "      <td>Maroon 5</td>\n",
       "      <td>3609286</td>\n",
       "    </tr>\n",
       "    <tr>\n",
       "      <th>...</th>\n",
       "      <td>...</td>\n",
       "      <td>...</td>\n",
       "      <td>...</td>\n",
       "      <td>...</td>\n",
       "    </tr>\n",
       "    <tr>\n",
       "      <th>47520</th>\n",
       "      <td>Cote D'Ivoire</td>\n",
       "      <td>2</td>\n",
       "      <td>Michael Jackson</td>\n",
       "      <td>3638343</td>\n",
       "    </tr>\n",
       "    <tr>\n",
       "      <th>47521</th>\n",
       "      <td>Cote D'Ivoire</td>\n",
       "      <td>3</td>\n",
       "      <td>Bob Marley</td>\n",
       "      <td>2009135</td>\n",
       "    </tr>\n",
       "    <tr>\n",
       "      <th>47522</th>\n",
       "      <td>Cote D'Ivoire</td>\n",
       "      <td>4</td>\n",
       "      <td>Kanye West</td>\n",
       "      <td>4523577</td>\n",
       "    </tr>\n",
       "    <tr>\n",
       "      <th>47523</th>\n",
       "      <td>Cote D'Ivoire</td>\n",
       "      <td>5</td>\n",
       "      <td>Daft Punk</td>\n",
       "      <td>3864256</td>\n",
       "    </tr>\n",
       "    <tr>\n",
       "      <th>47524</th>\n",
       "      <td>Cote D'Ivoire</td>\n",
       "      <td>6</td>\n",
       "      <td>Beyoncé</td>\n",
       "      <td>3680681</td>\n",
       "    </tr>\n",
       "  </tbody>\n",
       "</table>\n",
       "<p>47525 rows × 4 columns</p>\n",
       "</div>"
      ],
      "text/plain": [
       "             Country  Rank           Artist  Scrobbles\n",
       "0             Taiwan     1         Coldplay    5486719\n",
       "1             Taiwan     2            Adele    2939052\n",
       "2             Taiwan     3       Ed Sheeran    1770632\n",
       "3             Taiwan     4              Sia    2214287\n",
       "4             Taiwan     5         Maroon 5    3609286\n",
       "...              ...   ...              ...        ...\n",
       "47520  Cote D'Ivoire     2  Michael Jackson    3638343\n",
       "47521  Cote D'Ivoire     3       Bob Marley    2009135\n",
       "47522  Cote D'Ivoire     4       Kanye West    4523577\n",
       "47523  Cote D'Ivoire     5        Daft Punk    3864256\n",
       "47524  Cote D'Ivoire     6          Beyoncé    3680681\n",
       "\n",
       "[47525 rows x 4 columns]"
      ]
     },
     "execution_count": 353,
     "metadata": {},
     "output_type": "execute_result"
    }
   ],
   "source": [
    "newPD.data[newPD.data['Country']=='Czech Republic']\n",
    "newPD.data.head(47525)"
   ]
  },
  {
   "cell_type": "code",
   "execution_count": 184,
   "metadata": {},
   "outputs": [],
   "source": [
    "df = gpd.GeoDataFrame.from_features(data)"
   ]
  },
  {
   "cell_type": "code",
   "execution_count": 340,
   "metadata": {
    "scrolled": true
   },
   "outputs": [
    {
     "data": {
      "text/html": [
       "<div>\n",
       "<style scoped>\n",
       "    .dataframe tbody tr th:only-of-type {\n",
       "        vertical-align: middle;\n",
       "    }\n",
       "\n",
       "    .dataframe tbody tr th {\n",
       "        vertical-align: top;\n",
       "    }\n",
       "\n",
       "    .dataframe thead th {\n",
       "        text-align: right;\n",
       "    }\n",
       "</style>\n",
       "<table border=\"1\" class=\"dataframe\">\n",
       "  <thead>\n",
       "    <tr style=\"text-align: right;\">\n",
       "      <th></th>\n",
       "      <th>geometry</th>\n",
       "      <th>ADMIN</th>\n",
       "      <th>ISO_A3</th>\n",
       "      <th>Top 1</th>\n",
       "      <th>Top 2</th>\n",
       "      <th>Top 3</th>\n",
       "      <th>Top 4</th>\n",
       "      <th>Top 5</th>\n",
       "      <th>Top 6</th>\n",
       "      <th>Top 7</th>\n",
       "      <th>Top 8</th>\n",
       "      <th>Top 9</th>\n",
       "      <th>Top 10</th>\n",
       "    </tr>\n",
       "  </thead>\n",
       "  <tbody>\n",
       "    <tr>\n",
       "      <th>43</th>\n",
       "      <td>MULTIPOLYGON (((-3.18497 5.13227, -3.16340 5.1...</td>\n",
       "      <td>Ivory Coast</td>\n",
       "      <td>CIV</td>\n",
       "      <td>None</td>\n",
       "      <td>None</td>\n",
       "      <td>None</td>\n",
       "      <td>None</td>\n",
       "      <td>None</td>\n",
       "      <td>None</td>\n",
       "      <td>None</td>\n",
       "      <td>None</td>\n",
       "      <td>None</td>\n",
       "      <td>None</td>\n",
       "    </tr>\n",
       "  </tbody>\n",
       "</table>\n",
       "</div>"
      ],
      "text/plain": [
       "                                             geometry        ADMIN ISO_A3  \\\n",
       "43  MULTIPOLYGON (((-3.18497 5.13227, -3.16340 5.1...  Ivory Coast    CIV   \n",
       "\n",
       "   Top 1 Top 2 Top 3 Top 4 Top 5 Top 6 Top 7 Top 8 Top 9 Top 10  \n",
       "43  None  None  None  None  None  None  None  None  None   None  "
      ]
     },
     "execution_count": 340,
     "metadata": {},
     "output_type": "execute_result"
    }
   ],
   "source": [
    "newPD.geoDf[newPD.geoDf['ADMIN']==\"Ivory Coast\"]"
   ]
  },
  {
   "cell_type": "code",
   "execution_count": 343,
   "metadata": {},
   "outputs": [
    {
     "data": {
      "text/html": [
       "<div>\n",
       "<style scoped>\n",
       "    .dataframe tbody tr th:only-of-type {\n",
       "        vertical-align: middle;\n",
       "    }\n",
       "\n",
       "    .dataframe tbody tr th {\n",
       "        vertical-align: top;\n",
       "    }\n",
       "\n",
       "    .dataframe thead th {\n",
       "        text-align: right;\n",
       "    }\n",
       "</style>\n",
       "<table border=\"1\" class=\"dataframe\">\n",
       "  <thead>\n",
       "    <tr style=\"text-align: right;\">\n",
       "      <th></th>\n",
       "      <th>geometry</th>\n",
       "      <th>ADMIN</th>\n",
       "      <th>ISO_A3</th>\n",
       "      <th>Top 1</th>\n",
       "      <th>Top 2</th>\n",
       "      <th>Top 3</th>\n",
       "      <th>Top 4</th>\n",
       "      <th>Top 5</th>\n",
       "      <th>Top 6</th>\n",
       "      <th>Top 7</th>\n",
       "      <th>Top 8</th>\n",
       "      <th>Top 9</th>\n",
       "      <th>Top 10</th>\n",
       "    </tr>\n",
       "  </thead>\n",
       "  <tbody>\n",
       "    <tr>\n",
       "      <th>238</th>\n",
       "      <td>MULTIPOLYGON (((-155.60652 20.13796, -155.5863...</td>\n",
       "      <td>United States of America</td>\n",
       "      <td>USA</td>\n",
       "      <td>None</td>\n",
       "      <td>None</td>\n",
       "      <td>None</td>\n",
       "      <td>None</td>\n",
       "      <td>None</td>\n",
       "      <td>None</td>\n",
       "      <td>None</td>\n",
       "      <td>None</td>\n",
       "      <td>None</td>\n",
       "      <td>None</td>\n",
       "    </tr>\n",
       "  </tbody>\n",
       "</table>\n",
       "</div>"
      ],
      "text/plain": [
       "                                              geometry  \\\n",
       "238  MULTIPOLYGON (((-155.60652 20.13796, -155.5863...   \n",
       "\n",
       "                        ADMIN ISO_A3 Top 1 Top 2 Top 3 Top 4 Top 5 Top 6  \\\n",
       "238  United States of America    USA  None  None  None  None  None  None   \n",
       "\n",
       "    Top 7 Top 8 Top 9 Top 10  \n",
       "238  None  None  None   None  "
      ]
     },
     "execution_count": 343,
     "metadata": {},
     "output_type": "execute_result"
    }
   ],
   "source": [
    "newPD.geoDf[newPD.geoDf['ADMIN']==\"United States of America\"]"
   ]
  },
  {
   "cell_type": "code",
   "execution_count": 371,
   "metadata": {},
   "outputs": [
    {
     "data": {
      "text/html": [
       "<div>\n",
       "<style scoped>\n",
       "    .dataframe tbody tr th:only-of-type {\n",
       "        vertical-align: middle;\n",
       "    }\n",
       "\n",
       "    .dataframe tbody tr th {\n",
       "        vertical-align: top;\n",
       "    }\n",
       "\n",
       "    .dataframe thead th {\n",
       "        text-align: right;\n",
       "    }\n",
       "</style>\n",
       "<table border=\"1\" class=\"dataframe\">\n",
       "  <thead>\n",
       "    <tr style=\"text-align: right;\">\n",
       "      <th></th>\n",
       "      <th>Unnamed: 0</th>\n",
       "      <th>ArtistId</th>\n",
       "      <th>Artist</th>\n",
       "      <th>Listeners</th>\n",
       "      <th>Scrobbles</th>\n",
       "      <th>Tag1</th>\n",
       "      <th>Tag2</th>\n",
       "      <th>Tag3</th>\n",
       "      <th>Tag4</th>\n",
       "      <th>Tag5</th>\n",
       "    </tr>\n",
       "  </thead>\n",
       "  <tbody>\n",
       "    <tr>\n",
       "      <th>0</th>\n",
       "      <td>0</td>\n",
       "      <td>603ba565-3967-4be1-931e-9cb945394e86</td>\n",
       "      <td>*NSYNC</td>\n",
       "      <td>1000244</td>\n",
       "      <td>13392103</td>\n",
       "      <td>pop</td>\n",
       "      <td>boybands</td>\n",
       "      <td>90s</td>\n",
       "      <td>dance</td>\n",
       "      <td>seen live</td>\n",
       "    </tr>\n",
       "    <tr>\n",
       "      <th>1</th>\n",
       "      <td>1</td>\n",
       "      <td>f37c537b-3557-4031-bfd6-ab63ced32854</td>\n",
       "      <td>10cc</td>\n",
       "      <td>757032</td>\n",
       "      <td>6539113</td>\n",
       "      <td>classic rock</td>\n",
       "      <td>rock</td>\n",
       "      <td>70s</td>\n",
       "      <td>pop</td>\n",
       "      <td>british</td>\n",
       "    </tr>\n",
       "    <tr>\n",
       "      <th>2</th>\n",
       "      <td>2</td>\n",
       "      <td>dff0d392-4cd5-4052-9fbb-f485df3891e5</td>\n",
       "      <td>2 Chainz</td>\n",
       "      <td>689853</td>\n",
       "      <td>10755122</td>\n",
       "      <td>Hip-Hop</td>\n",
       "      <td>rap</td>\n",
       "      <td>Dirty South</td>\n",
       "      <td>trap</td>\n",
       "      <td>southern rap</td>\n",
       "    </tr>\n",
       "    <tr>\n",
       "      <th>3</th>\n",
       "      <td>3</td>\n",
       "      <td>02628cd8-ca14-4545-a0b4-96020b54692b</td>\n",
       "      <td>20syl</td>\n",
       "      <td>77619</td>\n",
       "      <td>892733</td>\n",
       "      <td>Hip-Hop</td>\n",
       "      <td>french</td>\n",
       "      <td>electronic</td>\n",
       "      <td>turntablism</td>\n",
       "      <td>hip hop</td>\n",
       "    </tr>\n",
       "    <tr>\n",
       "      <th>4</th>\n",
       "      <td>4</td>\n",
       "      <td>382f1005-e9ab-4684-afd4-0bdae4ee37f2</td>\n",
       "      <td>2Pac</td>\n",
       "      <td>2245429</td>\n",
       "      <td>58602220</td>\n",
       "      <td>rap</td>\n",
       "      <td>Hip-Hop</td>\n",
       "      <td>Gangsta Rap</td>\n",
       "      <td>West Coast Rap</td>\n",
       "      <td>hip hop</td>\n",
       "    </tr>\n",
       "  </tbody>\n",
       "</table>\n",
       "</div>"
      ],
      "text/plain": [
       "   Unnamed: 0                              ArtistId    Artist  Listeners  \\\n",
       "0           0  603ba565-3967-4be1-931e-9cb945394e86    *NSYNC    1000244   \n",
       "1           1  f37c537b-3557-4031-bfd6-ab63ced32854      10cc     757032   \n",
       "2           2  dff0d392-4cd5-4052-9fbb-f485df3891e5  2 Chainz     689853   \n",
       "3           3  02628cd8-ca14-4545-a0b4-96020b54692b     20syl      77619   \n",
       "4           4  382f1005-e9ab-4684-afd4-0bdae4ee37f2      2Pac    2245429   \n",
       "\n",
       "   Scrobbles          Tag1      Tag2         Tag3            Tag4  \\\n",
       "0   13392103           pop  boybands          90s           dance   \n",
       "1    6539113  classic rock      rock          70s             pop   \n",
       "2   10755122       Hip-Hop       rap  Dirty South            trap   \n",
       "3     892733       Hip-Hop    french   electronic     turntablism   \n",
       "4   58602220           rap   Hip-Hop  Gangsta Rap  West Coast Rap   \n",
       "\n",
       "           Tag5  \n",
       "0     seen live  \n",
       "1       british  \n",
       "2  southern rap  \n",
       "3       hip hop  \n",
       "4       hip hop  "
      ]
     },
     "execution_count": 371,
     "metadata": {},
     "output_type": "execute_result"
    }
   ],
   "source": []
  },
  {
   "cell_type": "code",
   "execution_count": 300,
   "metadata": {},
   "outputs": [],
   "source": [
    "countriesLastfm = pd.read_csv('countries_cut_two.csv', sep = ';',encoding='latin-1')\n",
    "countriesLastfm = countriesLastfm.drop(columns = ['COUNTRY'], axis = 1)\n",
    "topArtists = pd.read_csv('CompleteArtists.csv', sep = ';')\n",
    "topArtists = topArtists.drop(columns = ['Unnamed: 0'])"
   ]
  },
  {
   "cell_type": "markdown",
   "metadata": {},
   "source": [
    "Geoname = [None] * (topArtists['Country'].count())\n",
    "zmena = countriesLastfm['NAME'] != countriesLastfm['GEONAME']\n",
    "countriesLastfm[zmena]\n",
    "dct = {}\n",
    "for name, name2 in zip(countriesLastfm['NAME'], countriesLastfm['GEONAME']):\n",
    "    dct[name] = name2\n",
    " \n",
    "\n"
   ]
  },
  {
   "cell_type": "code",
   "execution_count": 189,
   "metadata": {},
   "outputs": [],
   "source": [
    "topArtists = topArtists.replace(dct)"
   ]
  },
  {
   "cell_type": "markdown",
   "metadata": {},
   "source": [
    "Editing some of the names in Geopandas dataframe due to different country naming conventions: create a dictionary."
   ]
  },
  {
   "cell_type": "code",
   "execution_count": 211,
   "metadata": {},
   "outputs": [],
   "source": [
    "cols = ['Top ' + str(i+1) for i in range(10)]\n",
    "artists = ['Artist ' + str(i+1) for i in range(10)]\n",
    "for i in range(len(artists)):\n",
    "    df['Top '+ str(i+1)] = str(None)"
   ]
  },
  {
   "cell_type": "code",
   "execution_count": 212,
   "metadata": {},
   "outputs": [
    {
     "name": "stderr",
     "output_type": "stream",
     "text": [
      "C:\\Users\\matej\\Anaconda3\\lib\\site-packages\\ipykernel_launcher.py:4: UserWarning: Boolean Series key will be reindexed to match DataFrame index.\n",
      "  after removing the cwd from sys.path.\n",
      "C:\\Users\\matej\\Anaconda3\\lib\\site-packages\\ipykernel_launcher.py:4: FutureWarning: `item` has been deprecated and will be removed in a future version\n",
      "  after removing the cwd from sys.path.\n",
      "C:\\Users\\matej\\Anaconda3\\lib\\site-packages\\ipykernel_launcher.py:4: SettingWithCopyWarning: \n",
      "A value is trying to be set on a copy of a slice from a DataFrame\n",
      "\n",
      "See the caveats in the documentation: http://pandas.pydata.org/pandas-docs/stable/user_guide/indexing.html#returning-a-view-versus-a-copy\n",
      "  after removing the cwd from sys.path.\n"
     ]
    }
   ],
   "source": [
    "for cntry in top10Artists['Country']:\n",
    "    for i in range(10):\n",
    "        try:\n",
    "            df['Top ' + str(i+1)][df['ADMIN']==cntry] = top10Artists[top10Artists['Country']==cntry][top10Artists['Rank']==i+1]['Artist'].item()\n",
    "        except:\n",
    "            pass"
   ]
  },
  {
   "cell_type": "code",
   "execution_count": 208,
   "metadata": {},
   "outputs": [
    {
     "data": {
      "text/plain": [
       "<folium.features.GeoJson at 0x203d032cd30>"
      ]
     },
     "execution_count": 208,
     "metadata": {},
     "output_type": "execute_result"
    }
   ],
   "source": [
    "folium.GeoJson(\n",
    "    df[['ADMIN', 'geometry'] + cols].to_json(),\n",
    "    show=True,\n",
    "    tooltip=folium.features.GeoJsonTooltip(\n",
    "        fields=['ADMIN'] + cols,\n",
    "        aliases=['Country'] + cols)\n",
    ").add_to(m)"
   ]
  },
  {
   "cell_type": "markdown",
   "metadata": {},
   "source": [
    "Unfortunately the map cannot be displayed in Jupyter notebook, but with help of _webbrowser_ library, we can save the output as html file and open it in a new window."
   ]
  },
  {
   "cell_type": "code",
   "execution_count": 297,
   "metadata": {},
   "outputs": [],
   "source": [
    "newPD.m.save('Top10OOPArtists.html')"
   ]
  },
  {
   "cell_type": "code",
   "execution_count": 298,
   "metadata": {
    "scrolled": true
   },
   "outputs": [
    {
     "data": {
      "text/plain": [
       "True"
      ]
     },
     "execution_count": 298,
     "metadata": {},
     "output_type": "execute_result"
    }
   ],
   "source": [
    "webbrowser.open_new('Top10OOPArtists.html')"
   ]
  },
  {
   "cell_type": "code",
   "execution_count": 345,
   "metadata": {
    "scrolled": true
   },
   "outputs": [
    {
     "data": {
      "text/html": [
       "<div>\n",
       "<style scoped>\n",
       "    .dataframe tbody tr th:only-of-type {\n",
       "        vertical-align: middle;\n",
       "    }\n",
       "\n",
       "    .dataframe tbody tr th {\n",
       "        vertical-align: top;\n",
       "    }\n",
       "\n",
       "    .dataframe thead th {\n",
       "        text-align: right;\n",
       "    }\n",
       "</style>\n",
       "<table border=\"1\" class=\"dataframe\">\n",
       "  <thead>\n",
       "    <tr style=\"text-align: right;\">\n",
       "      <th></th>\n",
       "      <th>Country</th>\n",
       "      <th>Rank</th>\n",
       "      <th>Artist</th>\n",
       "      <th>Scrobbles</th>\n",
       "    </tr>\n",
       "  </thead>\n",
       "  <tbody>\n",
       "  </tbody>\n",
       "</table>\n",
       "</div>"
      ],
      "text/plain": [
       "Empty DataFrame\n",
       "Columns: [Country, Rank, Artist, Scrobbles]\n",
       "Index: []"
      ]
     },
     "execution_count": 345,
     "metadata": {},
     "output_type": "execute_result"
    }
   ],
   "source": [
    "topArtists[topArtists['Country']=='Cote d\\'Ivoire']"
   ]
  },
  {
   "cell_type": "code",
   "execution_count": 369,
   "metadata": {},
   "outputs": [],
   "source": [
    "import numpy as np"
   ]
  },
  {
   "cell_type": "code",
   "execution_count": 368,
   "metadata": {},
   "outputs": [],
   "source": [
    "simulatedTracks =  pd.DataFrame(columns=['CountryId', 'Country', 'Rank', 'Track', 'Duration', 'Artist', 'ArtistId'])"
   ]
  },
  {
   "cell_type": "markdown",
   "metadata": {},
   "source": [
    "for k in range(50):\n",
    "    cId = k\n",
    "    cntry = 'Country ' + str(k+1)\n",
    "    for j in range(50):\n",
    "        Rank"
   ]
  }
 ],
 "metadata": {
  "hide_input": false,
  "kernelspec": {
   "display_name": "Python 3",
   "language": "python",
   "name": "python3"
  },
  "language_info": {
   "codemirror_mode": {
    "name": "ipython",
    "version": 3
   },
   "file_extension": ".py",
   "mimetype": "text/x-python",
   "name": "python",
   "nbconvert_exporter": "python",
   "pygments_lexer": "ipython3",
   "version": "3.7.3"
  }
 },
 "nbformat": 4,
 "nbformat_minor": 2
}
