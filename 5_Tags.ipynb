{
 "cells": [
  {
   "cell_type": "code",
   "execution_count": 59,
   "metadata": {},
   "outputs": [],
   "source": [
    "import pandas as pd\n",
    "import numpy as np\n",
    "import matplotlib.pyplot as plt\n",
    "import re"
   ]
  },
  {
   "cell_type": "code",
   "execution_count": 74,
   "metadata": {},
   "outputs": [],
   "source": [
    "df = pd.read_csv('artist_info.csv')"
   ]
  },
  {
   "cell_type": "code",
   "execution_count": 75,
   "metadata": {},
   "outputs": [],
   "source": [
    "df = df.iloc[:, 1:10]"
   ]
  },
  {
   "cell_type": "code",
   "execution_count": 84,
   "metadata": {},
   "outputs": [
    {
     "data": {
      "text/html": [
       "<div>\n",
       "<style scoped>\n",
       "    .dataframe tbody tr th:only-of-type {\n",
       "        vertical-align: middle;\n",
       "    }\n",
       "\n",
       "    .dataframe tbody tr th {\n",
       "        vertical-align: top;\n",
       "    }\n",
       "\n",
       "    .dataframe thead th {\n",
       "        text-align: right;\n",
       "    }\n",
       "</style>\n",
       "<table border=\"1\" class=\"dataframe\">\n",
       "  <thead>\n",
       "    <tr style=\"text-align: right;\">\n",
       "      <th></th>\n",
       "      <th>ArtistId</th>\n",
       "      <th>Artist</th>\n",
       "      <th>Listeners</th>\n",
       "      <th>Scrobbles</th>\n",
       "      <th>Tag1</th>\n",
       "      <th>Tag2</th>\n",
       "      <th>Tag3</th>\n",
       "      <th>Tag4</th>\n",
       "      <th>Tag5</th>\n",
       "    </tr>\n",
       "  </thead>\n",
       "  <tbody>\n",
       "    <tr>\n",
       "      <th>0</th>\n",
       "      <td>603ba565-3967-4be1-931e-9cb945394e86</td>\n",
       "      <td>*NSYNC</td>\n",
       "      <td>1000244</td>\n",
       "      <td>13392103</td>\n",
       "      <td>pop</td>\n",
       "      <td>boybands</td>\n",
       "      <td>90s</td>\n",
       "      <td>dance</td>\n",
       "      <td>seen live</td>\n",
       "    </tr>\n",
       "    <tr>\n",
       "      <th>1</th>\n",
       "      <td>b18bc9c4-6f22-4f1b-a918-e9c86a39fe7a</td>\n",
       "      <td>10 Years</td>\n",
       "      <td>590601</td>\n",
       "      <td>12011793</td>\n",
       "      <td>alternative rock</td>\n",
       "      <td>rock</td>\n",
       "      <td>alternative</td>\n",
       "      <td>alternative metal</td>\n",
       "      <td>hard rock</td>\n",
       "    </tr>\n",
       "    <tr>\n",
       "      <th>2</th>\n",
       "      <td>b9a06530-1241-4162-836f-7b8e79deaa58</td>\n",
       "      <td>10,000 Maniacs</td>\n",
       "      <td>394278</td>\n",
       "      <td>4133351</td>\n",
       "      <td>female vocalists</td>\n",
       "      <td>alternative</td>\n",
       "      <td>rock</td>\n",
       "      <td>pop</td>\n",
       "      <td>80s</td>\n",
       "    </tr>\n",
       "    <tr>\n",
       "      <th>3</th>\n",
       "      <td>f37c537b-3557-4031-bfd6-ab63ced32854</td>\n",
       "      <td>10cc</td>\n",
       "      <td>757032</td>\n",
       "      <td>6539113</td>\n",
       "      <td>classic rock</td>\n",
       "      <td>rock</td>\n",
       "      <td>70s</td>\n",
       "      <td>pop</td>\n",
       "      <td>british</td>\n",
       "    </tr>\n",
       "    <tr>\n",
       "      <th>4</th>\n",
       "      <td>dff0d392-4cd5-4052-9fbb-f485df3891e5</td>\n",
       "      <td>2 Chainz</td>\n",
       "      <td>689853</td>\n",
       "      <td>10755122</td>\n",
       "      <td>Hip-Hop</td>\n",
       "      <td>rap</td>\n",
       "      <td>Dirty South</td>\n",
       "      <td>trap</td>\n",
       "      <td>southern rap</td>\n",
       "    </tr>\n",
       "  </tbody>\n",
       "</table>\n",
       "</div>"
      ],
      "text/plain": [
       "                               ArtistId          Artist  Listeners  Scrobbles  \\\n",
       "0  603ba565-3967-4be1-931e-9cb945394e86          *NSYNC    1000244   13392103   \n",
       "1  b18bc9c4-6f22-4f1b-a918-e9c86a39fe7a        10 Years     590601   12011793   \n",
       "2  b9a06530-1241-4162-836f-7b8e79deaa58  10,000 Maniacs     394278    4133351   \n",
       "3  f37c537b-3557-4031-bfd6-ab63ced32854            10cc     757032    6539113   \n",
       "4  dff0d392-4cd5-4052-9fbb-f485df3891e5        2 Chainz     689853   10755122   \n",
       "\n",
       "               Tag1         Tag2         Tag3               Tag4          Tag5  \n",
       "0               pop     boybands          90s              dance     seen live  \n",
       "1  alternative rock         rock  alternative  alternative metal     hard rock  \n",
       "2  female vocalists  alternative         rock                pop           80s  \n",
       "3      classic rock         rock          70s                pop       british  \n",
       "4           Hip-Hop          rap  Dirty South               trap  southern rap  "
      ]
     },
     "execution_count": 84,
     "metadata": {},
     "output_type": "execute_result"
    }
   ],
   "source": [
    "df.head()"
   ]
  },
  {
   "cell_type": "code",
   "execution_count": 87,
   "metadata": {},
   "outputs": [],
   "source": [
    "artist_count = df.shape[0]"
   ]
  },
  {
   "cell_type": "code",
   "execution_count": 77,
   "metadata": {},
   "outputs": [],
   "source": [
    "tags = pd.concat([df.Tag1, df.Tag2, df.Tag3, df.Tag4, df.Tag5])"
   ]
  },
  {
   "cell_type": "code",
   "execution_count": 78,
   "metadata": {},
   "outputs": [],
   "source": [
    "# Lower case all tags and replace '-' with a space\n",
    "tags = [x.lower() for x in tags]\n",
    "tags = [re.sub('\\-', ' ', str(x)) for x in tags]"
   ]
  },
  {
   "cell_type": "code",
   "execution_count": 95,
   "metadata": {},
   "outputs": [
    {
     "data": {
      "text/plain": [
       "rock                 0.284778\n",
       "pop                  0.244965\n",
       "seen live            0.211241\n",
       "hip hop              0.207026\n",
       "indie                0.196721\n",
       "electronic           0.181733\n",
       "female vocalists     0.172834\n",
       "alternative          0.162998\n",
       "singer songwriter    0.100703\n",
       "rap                  0.099766\n",
       "soul                 0.084309\n",
       "rnb                  0.074473\n",
       "folk                 0.070258\n",
       "classic rock         0.064637\n",
       "indie rock           0.059953\n",
       "british              0.059485\n",
       "dance                0.056674\n",
       "alternative rock     0.055269\n",
       "jazz                 0.054333\n",
       "80s                  0.052459\n",
       "dtype: float64"
      ]
     },
     "execution_count": 95,
     "metadata": {},
     "output_type": "execute_result"
    }
   ],
   "source": [
    "pd.Series(tags).value_counts()[0:20] / artist_count"
   ]
  }
 ],
 "metadata": {
  "hide_input": false,
  "kernelspec": {
   "display_name": "Python 3",
   "language": "python",
   "name": "python3"
  },
  "language_info": {
   "codemirror_mode": {
    "name": "ipython",
    "version": 3
   },
   "file_extension": ".py",
   "mimetype": "text/x-python",
   "name": "python",
   "nbconvert_exporter": "python",
   "pygments_lexer": "ipython3",
   "version": "3.7.3"
  }
 },
 "nbformat": 4,
 "nbformat_minor": 2
}
