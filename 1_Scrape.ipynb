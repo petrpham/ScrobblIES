{
 "cells": [
  {
   "cell_type": "code",
   "execution_count": 437,
   "metadata": {},
   "outputs": [],
   "source": [
    "import requests\n",
    "import pandas as pd\n",
    "import numpy as np\n",
    "import json\n",
    "import re"
   ]
  },
  {
   "cell_type": "code",
   "execution_count": 17,
   "metadata": {},
   "outputs": [],
   "source": [
    "from pathlib import Path\n",
    "import requests_cache\n",
    "import time\n",
    "from IPython.core.display import clear_output"
   ]
  },
  {
   "cell_type": "code",
   "execution_count": 18,
   "metadata": {},
   "outputs": [],
   "source": [
    "## Please insert your API key into the configuration file in order to access LastFM public API\n",
    "cwd = Path.cwd()\n",
    "path_to_config = cwd / \"Inputs/configpp.yml\""
   ]
  },
  {
   "cell_type": "code",
   "execution_count": 412,
   "metadata": {},
   "outputs": [
    {
     "name": "stderr",
     "output_type": "stream",
     "text": [
      "C:\\Users\\petr.pham\\AppData\\Local\\Continuum\\anaconda3\\lib\\site-packages\\ipykernel_launcher.py:5: YAMLLoadWarning: calling yaml.load() without Loader=... is deprecated, as the default Loader is unsafe. Please read https://msg.pyyaml.org/load for full details.\n",
      "  \"\"\"\n"
     ]
    }
   ],
   "source": [
    "#Loading config file\n",
    "\n",
    "import yaml\n",
    "with open(path_to_config, 'r') as ymlfile:\n",
    "    config = yaml.load(ymlfile)"
   ]
  },
  {
   "cell_type": "code",
   "execution_count": 413,
   "metadata": {},
   "outputs": [],
   "source": [
    "#API key extraction\n",
    "apikey = config['lastfm'].get('apikey')"
   ]
  },
  {
   "cell_type": "code",
   "execution_count": 414,
   "metadata": {},
   "outputs": [],
   "source": [
    "# Countries dataframe\n",
    "countriesdf = pd.read_csv(\"countries_cut_one.csv\", sep =\";\", encoding='latin-1')\n",
    "countriesdf.columns = ['CountryName', 'CountryNameUrl']\n",
    "countriesdf['CountryId'] = range(1, countriesdf.shape[0] + 1)\n",
    "countriesdf = countriesdf[['CountryId', 'CountryName', 'CountryNameUrl']]"
   ]
  },
  {
   "cell_type": "markdown",
   "metadata": {},
   "source": [
    "# LastFMLink object"
   ]
  },
  {
   "cell_type": "code",
   "execution_count": 417,
   "metadata": {},
   "outputs": [],
   "source": [
    "# LastFMLink object\n",
    "\n",
    "class LastFMLink:\n",
    "    '''\n",
    "    LastFM object working with LastFM API accessible links. API key has to be provided.\n",
    "    '''\n",
    "    \n",
    "    \n",
    "    def __init__(self, apikey, format = 'json', limit = 50):\n",
    "        self.apikey = apikey\n",
    "        self.limit = limit\n",
    "        if format == 'json':\n",
    "            self.format = 'json'\n",
    "    \n",
    "    \n",
    "    def GeoGetTop(self, method = 'artist', countries = 'Czech+republic'):\n",
    "        '''\n",
    "        Obtain links containing info about most popular artists/tracks in given countries. \n",
    "        Countries: A list of country names, as defined by the ISO 3166-1 country names standard, multi-word names shall be seperated by '+'.\n",
    "        Method: Either 'artist' or 'track' in order to obtain most popular artists or tracks in given countries.\n",
    "        '''\n",
    "        if method == 'artist':\n",
    "            self.method = 'geo.gettopartists'\n",
    "            if self.format == 'json':\n",
    "                self.links = 'https://ws.audioscrobbler.com/2.0/?method=' + self.method + '&limit=' + str(self.limit) + '&country=' + countries + '&api_key=' + self.apikey + '&format=' + self.format\n",
    "                return(self.links)\n",
    "            \n",
    "        elif method == 'track':\n",
    "            self.method = 'geo.gettoptracks'\n",
    "            if self.format == 'json':\n",
    "                self.links = 'https://ws.audioscrobbler.com/2.0/?method=' + self.method + '&limit=' + str(self.limit) + '&country=' + countries + '&api_key=' + self.apikey + '&format=' + self.format\n",
    "                return self.links  \n",
    "            \n",
    "        else:\n",
    "            print('Choose either \"artist\" or \"track\" method, in order obtain most popular artists or tracks, respectively.')\n",
    "    \n",
    "    \n",
    "    def ArtistGetInfo(self, artists = 'beach+house', autocorrect = 0):\n",
    "        '''\n",
    "        Obtain links containing info about given artists. Autocorrect transforms misspelled artist names into correct artist names, options are 1 for the enablement of autocorrect and 0 for otherwise.\n",
    "        '''\n",
    "        self.method = 'artist.getinfo'\n",
    "        if self.format == 'json':\n",
    "                self.links = 'https://ws.audioscrobbler.com/2.0/?method=' + self.method + '&limit=' + str(self.limit) + '&artist=' + artists + '&api_key=' + self.apikey + '&format=' + self.format + '&autocorrect=' + str(autocorrect)\n",
    "                return self.links"
   ]
  },
  {
   "cell_type": "markdown",
   "metadata": {},
   "source": [
    "## Creation of a dictionary containing links to jsonfiles"
   ]
  },
  {
   "cell_type": "code",
   "execution_count": 418,
   "metadata": {},
   "outputs": [],
   "source": [
    "# Links dictionary\n",
    "last_fm_links = {'geo_top_artists': 0, 'geo_top_tracks': 0, 'artists_info': 0}"
   ]
  },
  {
   "cell_type": "code",
   "execution_count": 419,
   "metadata": {},
   "outputs": [],
   "source": [
    "# We would like 101 entries from each file\n",
    "lnk = LastFMLink(apikey, limit = 101)"
   ]
  },
  {
   "cell_type": "code",
   "execution_count": 420,
   "metadata": {},
   "outputs": [],
   "source": [
    "# Creating links to access most popular artists and tracks on the country level\n",
    "last_fm_links['geo_top_artists'] = lnk.GeoGetTop(countries = countriesdf['CountryNameUrl'], method = 'artist')\n",
    "last_fm_links['geo_top_tracks'] = lnk.GeoGetTop(countries = countriesdf['CountryNameUrl'], method = 'track')"
   ]
  },
  {
   "cell_type": "code",
   "execution_count": 436,
   "metadata": {},
   "outputs": [],
   "source": [
    "class LastFMDownloader: \n",
    "    '''\n",
    "    Downloader class for collection of data and storage of results.\n",
    "    '''\n",
    "    \n",
    "    \n",
    "    def __init__(self, allowLog = True):\n",
    "        '''\n",
    "        Initilization of Downloader object. API key has to be provided. \n",
    "        '''\n",
    "        self.allowLog = allowLog\n",
    "        self.limit = 50\n",
    "        self.jsonlist = []\n",
    "        if self.allowLog:\n",
    "            print('Downloader initialized.')\n",
    "    \n",
    "    \n",
    "    def LoadCountryList(self, countryid = 0, countryname = 'Czech Republic'):\n",
    "        '''\n",
    "        Specifies country id and country names of GetDfGeo methods.\n",
    "        '''\n",
    "        self.countryid = countryid\n",
    "        self.countryname = countryname\n",
    "    \n",
    "    \n",
    "    def RequestJson(self, links):\n",
    "        '''\n",
    "        Requests JSON files from given links and returns a list of JSON files stored in jsonlist attribute of the downloader.\n",
    "        '''\n",
    "        ## dodelat provide 1 link only\n",
    "        requests_cache.install_cache() # storing previous requests\n",
    "        number_of_files = len(links)\n",
    "        self.jsonlist = []\n",
    "        if len(links) >= 2:\n",
    "            file = 1\n",
    "            for link in links:\n",
    "                print('Requesting file number {} out of {}'.format(file, number_of_files))\n",
    "                clear_output(wait = True)\n",
    "                jsonfile = requests.get(link).json()\n",
    "                self.jsonlist.append(jsonfile)\n",
    "                if not getattr(jsonfile, 'from_cache', False):\n",
    "                    print('File has not been requested yet. Please wait half a second.')\n",
    "                    time.sleep(0.25)\n",
    "                file = file + 1\n",
    "            clear_output(wait = True)\n",
    "            print(\"All requested files are now available and stored in the 'jsonlist' attribute. Use one of the 'GetDf' methods to obtain the relevant data.\")\n",
    "        \n",
    "    \n",
    "    def GetDfGeoTopArtists(self): \n",
    "        '''\n",
    "        Provides data concerning most popular artists in given countries stored in a pandas dataframe. \n",
    "        LoadCountryList() method has to be called before-hand, in order to specify id of countries and country names.\n",
    "        '''\n",
    "        ListGeoTopArtists = []\n",
    "        for country in range(len(self.countryid)): # x number of countries range len countries\n",
    "            bad_entry = 0\n",
    "            for ranking in range(self.limit): # z number of ranks\n",
    "                try:\n",
    "                    row = []\n",
    "                    rank = ranking + 1\n",
    "                    countryid = self.countryid[country]\n",
    "                    countryname = self.countryname[country]\n",
    "                    artist = self.jsonlist[country]['topartists']['artist'][ranking]['name']\n",
    "                    artistid = self.jsonlist[country]['topartists']['artist'][ranking]['mbid']\n",
    "                    listeners = self.jsonlist[country]['topartists']['artist'][ranking]['listeners']\n",
    "                    row.extend([countryid, countryname, rank, artist, artistid, listeners])\n",
    "                    ListGeoTopArtists.append(row)\n",
    "                except:\n",
    "                    if bad_entry > 0:\n",
    "                        break\n",
    "                    else:\n",
    "                        countryid = self.countryid[country]\n",
    "                        countryname = self.countryname[country]\n",
    "                        row = [countryid, countryname]\n",
    "                        row.extend([None] * 4)\n",
    "                        ListGeoTopArtists.append(row)\n",
    "                        bad_entry = bad_entry + 1\n",
    "        self.DfGeoTopArtists = pd.DataFrame.from_records(ListGeoTopArtists)\n",
    "        self.DfGeoTopArtists.columns = ['CountryId', 'Country', 'Rank', 'Artist', 'ArtistId', 'Listeners']\n",
    "        print(\"Data concerning most popular artists in given countries are now available and stored in 'DfGeoTopArtists' attribute as a pandas dataframe.\")\n",
    "        print(\"Here are last 5 entries of the dataframe:\")\n",
    "        return self.DfGeoTopArtists.tail()\n",
    "    \n",
    "    \n",
    "    def GetDfGeoTopTracks(self): \n",
    "        '''\n",
    "        Provides data concerning most popular tracks in given countries stored in a pandas dataframe. \n",
    "        LoadCountryList() method has to be called before-hand, in order to specify id of countries and country names.\n",
    "        '''\n",
    "        ListGeoTopTracks = []\n",
    "        for country in range(len(self.countryid)): # x number of countries range len countries\n",
    "            bad_entry = 0\n",
    "            for ranking in range(self.limit): # z number of ranks\n",
    "                try:\n",
    "                    row = []\n",
    "                    rank = ranking + 1\n",
    "                    countryid = self.countryid[country]\n",
    "                    countryname = self.countryname[country]\n",
    "                    track = self.jsonlist[country]['tracks']['track'][ranking]['name']\n",
    "                    duration = self.jsonlist[country]['tracks']['track'][ranking]['duration']\n",
    "                    artist = self.jsonlist[country]['tracks']['track'][ranking]['artist']['name']\n",
    "                    artistid = self.jsonlist[country]['tracks']['track'][ranking]['artist']['mbid']\n",
    "                    row.extend([countryid, countryname, rank, track, duration, artist, artistid])\n",
    "                    ListGeoTopTracks.append(row)\n",
    "                except:\n",
    "                    if bad_entry > 0:\n",
    "                        break\n",
    "                    else:\n",
    "                        countryid = self.countryid[country]\n",
    "                        countryname = self.countryname[country]\n",
    "                        row = [countryid, countryname]\n",
    "                        row.extend([None] * 5)\n",
    "                        ListGeoTopTracks.append(row)\n",
    "                        bad_entry = bad_entry + 1\n",
    "        self.DfGeoTopTracks = pd.DataFrame.from_records(ListGeoTopTracks)\n",
    "        self.DfGeoTopTracks.columns = ['CountryId', 'Country', 'Rank', 'Track', 'Duration', 'Artist', 'ArtistId']\n",
    "        print(\"Data concerning most popular artists in given countries are now available and stored in 'DfGeoTopTracks' attribute as a pandas dataframe.\")\n",
    "        print(\"Here are last 5 entries of the dataframe:\")\n",
    "        return self.DfGeoTopTracks.tail()\n",
    "    \n",
    "    \n",
    "    def GetDfArtistInfo(self): \n",
    "        '''\n",
    "        Provides data concerning artists stored in a pandas dataframe. \n",
    "        '''\n",
    "        ListArtistInfo = []\n",
    "        for artist in range(len(self.jsonlist)): # x number of countries range len countries\n",
    "            try:\n",
    "                row = []\n",
    "                artistname = self.jsonlist[artist]['artist']['name']\n",
    "                listeners = self.jsonlist[artist]['artist']['stats']['listeners']\n",
    "                playcount = self.jsonlist[artist]['artist']['stats']['playcount']\n",
    "                tag1 = self.jsonlist[artist]['artist']['tags']['tag'][0]['name']\n",
    "                tag2 = self.jsonlist[artist]['artist']['tags']['tag'][1]['name']\n",
    "                tag3 = self.jsonlist[artist]['artist']['tags']['tag'][2]['name']\n",
    "                tag4 = self.jsonlist[artist]['artist']['tags']['tag'][3]['name']\n",
    "                tag5 = self.jsonlist[artist]['artist']['tags']['tag'][4]['name']\n",
    "                try:\n",
    "                    artistid = self.jsonlist[artist]['artist']['mbid']\n",
    "                except:\n",
    "                    artistid = ''\n",
    "                row.extend([artistid, artistname, listeners, playcount, tag1, tag2, tag3, tag4, tag5])\n",
    "                ListArtistInfo.append(row)\n",
    "            except:\n",
    "                pass\n",
    "        self.DfArtistInfo = pd.DataFrame.from_records(ListArtistInfo)\n",
    "        self.DfArtistInfo.columns = ['ArtistId', 'Artist', 'Listeners', 'Scrobbles', 'Tag1', 'Tag2', 'Tag3', 'Tag4', 'Tag5']\n",
    "        print(\"Data concerning most popular artists in given countries are now available and stored in 'DfArtistInfo' attribute as a pandas dataframe.\")\n",
    "        print(\"Here are last 5 entries of the dataframe:\")\n",
    "        return self.DfArtistInfo.tail()"
   ]
  },
  {
   "cell_type": "markdown",
   "metadata": {},
   "source": [
    "tady pouzivam ty fajnovy veci co jsem si definoval nahore\n",
    "<br>\n",
    "<br>\n",
    "<br>\n",
    "<br>\n",
    "<br>\n",
    "<br>\n",
    "<br>"
   ]
  },
  {
   "cell_type": "code",
   "execution_count": 422,
   "metadata": {},
   "outputs": [
    {
     "name": "stdout",
     "output_type": "stream",
     "text": [
      "Downloader initialized.\n"
     ]
    }
   ],
   "source": [
    "dwn = LastFMDownloader(apikey)"
   ]
  },
  {
   "cell_type": "code",
   "execution_count": 423,
   "metadata": {},
   "outputs": [],
   "source": [
    "# Setting number of inputs per jsonfile to be the very same\n",
    "dwn.limit = lnk.limit"
   ]
  },
  {
   "cell_type": "code",
   "execution_count": 424,
   "metadata": {},
   "outputs": [],
   "source": [
    "dwn.LoadCountryList(countryid = countriesdf['CountryId'], countryname = countriesdf['CountryName'])"
   ]
  },
  {
   "cell_type": "code",
   "execution_count": 425,
   "metadata": {},
   "outputs": [
    {
     "name": "stdout",
     "output_type": "stream",
     "text": [
      "All requested files are now available and stored in the 'jsonlist' attribute.\n"
     ]
    }
   ],
   "source": [
    "dwn.RequestJson(links = last_fm_links['geo_top_artists'])"
   ]
  },
  {
   "cell_type": "code",
   "execution_count": 426,
   "metadata": {},
   "outputs": [
    {
     "name": "stdout",
     "output_type": "stream",
     "text": [
      "Data concerning most popular artists in given countries are now available and stored in 'DfGeoTopArtists' attribute as a pandas dataframe.\n",
      "Here are last 5 entries of the dataframe:\n"
     ]
    },
    {
     "data": {
      "text/html": [
       "<div>\n",
       "<style scoped>\n",
       "    .dataframe tbody tr th:only-of-type {\n",
       "        vertical-align: middle;\n",
       "    }\n",
       "\n",
       "    .dataframe tbody tr th {\n",
       "        vertical-align: top;\n",
       "    }\n",
       "\n",
       "    .dataframe thead th {\n",
       "        text-align: right;\n",
       "    }\n",
       "</style>\n",
       "<table border=\"1\" class=\"dataframe\">\n",
       "  <thead>\n",
       "    <tr style=\"text-align: right;\">\n",
       "      <th></th>\n",
       "      <th>CountryId</th>\n",
       "      <th>Country</th>\n",
       "      <th>Rank</th>\n",
       "      <th>Artist</th>\n",
       "      <th>ArtistId</th>\n",
       "      <th>Listeners</th>\n",
       "    </tr>\n",
       "  </thead>\n",
       "  <tbody>\n",
       "    <tr>\n",
       "      <th>19612</th>\n",
       "      <td>236</td>\n",
       "      <td>Zimbabwe</td>\n",
       "      <td>97.0</td>\n",
       "      <td>Janet Jackson</td>\n",
       "      <td>6be2828f-6c0d-4059-99d4-fa18acf1a296</td>\n",
       "      <td>1317931</td>\n",
       "    </tr>\n",
       "    <tr>\n",
       "      <th>19613</th>\n",
       "      <td>236</td>\n",
       "      <td>Zimbabwe</td>\n",
       "      <td>98.0</td>\n",
       "      <td>Scissor Sisters</td>\n",
       "      <td>4236d929-9a81-4c8e-97c3-8d3306780f50</td>\n",
       "      <td>1265642</td>\n",
       "    </tr>\n",
       "    <tr>\n",
       "      <th>19614</th>\n",
       "      <td>236</td>\n",
       "      <td>Zimbabwe</td>\n",
       "      <td>99.0</td>\n",
       "      <td>Roxette</td>\n",
       "      <td>d3b2711f-2baa-441a-be95-14945ca7e6ea</td>\n",
       "      <td>1188769</td>\n",
       "    </tr>\n",
       "    <tr>\n",
       "      <th>19615</th>\n",
       "      <td>236</td>\n",
       "      <td>Zimbabwe</td>\n",
       "      <td>100.0</td>\n",
       "      <td>Destiny's Child</td>\n",
       "      <td>a796b92e-c137-4895-9c89-10f900617a4f</td>\n",
       "      <td>1865668</td>\n",
       "    </tr>\n",
       "    <tr>\n",
       "      <th>19616</th>\n",
       "      <td>236</td>\n",
       "      <td>Zimbabwe</td>\n",
       "      <td>101.0</td>\n",
       "      <td>Colbie Caillat</td>\n",
       "      <td>efc8a006-d0c6-4a9b-8cb1-91ca770fa2b9</td>\n",
       "      <td>1445146</td>\n",
       "    </tr>\n",
       "  </tbody>\n",
       "</table>\n",
       "</div>"
      ],
      "text/plain": [
       "       CountryId   Country   Rank           Artist  \\\n",
       "19612        236  Zimbabwe   97.0    Janet Jackson   \n",
       "19613        236  Zimbabwe   98.0  Scissor Sisters   \n",
       "19614        236  Zimbabwe   99.0          Roxette   \n",
       "19615        236  Zimbabwe  100.0  Destiny's Child   \n",
       "19616        236  Zimbabwe  101.0   Colbie Caillat   \n",
       "\n",
       "                                   ArtistId Listeners  \n",
       "19612  6be2828f-6c0d-4059-99d4-fa18acf1a296   1317931  \n",
       "19613  4236d929-9a81-4c8e-97c3-8d3306780f50   1265642  \n",
       "19614  d3b2711f-2baa-441a-be95-14945ca7e6ea   1188769  \n",
       "19615  a796b92e-c137-4895-9c89-10f900617a4f   1865668  \n",
       "19616  efc8a006-d0c6-4a9b-8cb1-91ca770fa2b9   1445146  "
      ]
     },
     "execution_count": 426,
     "metadata": {},
     "output_type": "execute_result"
    }
   ],
   "source": [
    "dwn.GetDfGeoTopArtists()"
   ]
  },
  {
   "cell_type": "code",
   "execution_count": 427,
   "metadata": {},
   "outputs": [
    {
     "name": "stdout",
     "output_type": "stream",
     "text": [
      "All requested files are now available and stored in the 'jsonlist' attribute.\n"
     ]
    }
   ],
   "source": [
    "dwn.RequestJson(links = last_fm_links['geo_top_tracks'])"
   ]
  },
  {
   "cell_type": "code",
   "execution_count": 428,
   "metadata": {},
   "outputs": [
    {
     "name": "stdout",
     "output_type": "stream",
     "text": [
      "Data concerning most popular artists in given countries are now available and stored in 'DfGeoTopTracks' attribute as a pandas dataframe.\n",
      "Here are last 5 entries of the dataframe:\n"
     ]
    },
    {
     "data": {
      "text/html": [
       "<div>\n",
       "<style scoped>\n",
       "    .dataframe tbody tr th:only-of-type {\n",
       "        vertical-align: middle;\n",
       "    }\n",
       "\n",
       "    .dataframe tbody tr th {\n",
       "        vertical-align: top;\n",
       "    }\n",
       "\n",
       "    .dataframe thead th {\n",
       "        text-align: right;\n",
       "    }\n",
       "</style>\n",
       "<table border=\"1\" class=\"dataframe\">\n",
       "  <thead>\n",
       "    <tr style=\"text-align: right;\">\n",
       "      <th></th>\n",
       "      <th>CountryId</th>\n",
       "      <th>Country</th>\n",
       "      <th>Rank</th>\n",
       "      <th>Track</th>\n",
       "      <th>Duration</th>\n",
       "      <th>Artist</th>\n",
       "      <th>ArtistId</th>\n",
       "    </tr>\n",
       "  </thead>\n",
       "  <tbody>\n",
       "    <tr>\n",
       "      <th>19645</th>\n",
       "      <td>236</td>\n",
       "      <td>Zimbabwe</td>\n",
       "      <td>97.0</td>\n",
       "      <td>breathin</td>\n",
       "      <td>0</td>\n",
       "      <td>Ariana Grande</td>\n",
       "      <td>f4fdbb4c-e4b7-47a0-b83b-d91bbfcfa387</td>\n",
       "    </tr>\n",
       "    <tr>\n",
       "      <th>19646</th>\n",
       "      <td>236</td>\n",
       "      <td>Zimbabwe</td>\n",
       "      <td>98.0</td>\n",
       "      <td>Shut Up and Dance</td>\n",
       "      <td>199</td>\n",
       "      <td>Walk the Moon</td>\n",
       "      <td>d4aad415-9cd0-4845-9b05-0416fdcc9fc4</td>\n",
       "    </tr>\n",
       "    <tr>\n",
       "      <th>19647</th>\n",
       "      <td>236</td>\n",
       "      <td>Zimbabwe</td>\n",
       "      <td>99.0</td>\n",
       "      <td>Delicate</td>\n",
       "      <td>0</td>\n",
       "      <td>Taylor Swift</td>\n",
       "      <td>20244d07-534f-4eff-b4d4-930878889970</td>\n",
       "    </tr>\n",
       "    <tr>\n",
       "      <th>19648</th>\n",
       "      <td>236</td>\n",
       "      <td>Zimbabwe</td>\n",
       "      <td>100.0</td>\n",
       "      <td>Single Ladies (Put a Ring on It)</td>\n",
       "      <td>195</td>\n",
       "      <td>Beyoncé</td>\n",
       "      <td>859d0860-d480-4efd-970c-c05d5f1776b8</td>\n",
       "    </tr>\n",
       "    <tr>\n",
       "      <th>19649</th>\n",
       "      <td>236</td>\n",
       "      <td>Zimbabwe</td>\n",
       "      <td>101.0</td>\n",
       "      <td>I Want You Back</td>\n",
       "      <td>180</td>\n",
       "      <td>The Jackson 5</td>\n",
       "      <td>e5257dc5-1edd-4fca-b7e6-1158e00522c8</td>\n",
       "    </tr>\n",
       "  </tbody>\n",
       "</table>\n",
       "</div>"
      ],
      "text/plain": [
       "       CountryId   Country   Rank                             Track Duration  \\\n",
       "19645        236  Zimbabwe   97.0                          breathin        0   \n",
       "19646        236  Zimbabwe   98.0                 Shut Up and Dance      199   \n",
       "19647        236  Zimbabwe   99.0                          Delicate        0   \n",
       "19648        236  Zimbabwe  100.0  Single Ladies (Put a Ring on It)      195   \n",
       "19649        236  Zimbabwe  101.0                   I Want You Back      180   \n",
       "\n",
       "              Artist                              ArtistId  \n",
       "19645  Ariana Grande  f4fdbb4c-e4b7-47a0-b83b-d91bbfcfa387  \n",
       "19646  Walk the Moon  d4aad415-9cd0-4845-9b05-0416fdcc9fc4  \n",
       "19647   Taylor Swift  20244d07-534f-4eff-b4d4-930878889970  \n",
       "19648        Beyoncé  859d0860-d480-4efd-970c-c05d5f1776b8  \n",
       "19649  The Jackson 5  e5257dc5-1edd-4fca-b7e6-1158e00522c8  "
      ]
     },
     "execution_count": 428,
     "metadata": {},
     "output_type": "execute_result"
    }
   ],
   "source": [
    "dwn.GetDfGeoTopTracks()"
   ]
  },
  {
   "cell_type": "code",
   "execution_count": null,
   "metadata": {},
   "outputs": [],
   "source": []
  },
  {
   "cell_type": "code",
   "execution_count": 429,
   "metadata": {},
   "outputs": [],
   "source": [
    "# Creating links to access info about most popular artists on the global level\n",
    "ArtistsArray = np.append(dwn.DfGeoTopArtists.Artist.unique().astype(str), dwn.DfGeoTopTracks.Artist.unique().astype(str))\n",
    "ArtistsArray = np.unique(ArtistsArray)\n",
    "ListOfArtistsUrl = [re.sub('\\s+', '+', str(x)) for x in ArtistsArray]\n",
    "last_fm_links['artists_info'] = LastFMLink(apikey).ArtistGetInfo(artists = pd.Series(ListOfArtistsUrl))"
   ]
  },
  {
   "cell_type": "code",
   "execution_count": 431,
   "metadata": {},
   "outputs": [
    {
     "name": "stdout",
     "output_type": "stream",
     "text": [
      "All requested files are now available and stored in the 'jsonlist' attribute.\n"
     ]
    }
   ],
   "source": [
    "dwn.RequestJson(links = last_fm_links['artists_info'])"
   ]
  },
  {
   "cell_type": "code",
   "execution_count": 432,
   "metadata": {},
   "outputs": [
    {
     "name": "stdout",
     "output_type": "stream",
     "text": [
      "Data concerning most popular artists in given countries are now available and stored in 'DfArtistInfo' attribute as a pandas dataframe.\n",
      "Here are last 5 entries of the dataframe:\n"
     ]
    },
    {
     "data": {
      "text/html": [
       "<div>\n",
       "<style scoped>\n",
       "    .dataframe tbody tr th:only-of-type {\n",
       "        vertical-align: middle;\n",
       "    }\n",
       "\n",
       "    .dataframe tbody tr th {\n",
       "        vertical-align: top;\n",
       "    }\n",
       "\n",
       "    .dataframe thead th {\n",
       "        text-align: right;\n",
       "    }\n",
       "</style>\n",
       "<table border=\"1\" class=\"dataframe\">\n",
       "  <thead>\n",
       "    <tr style=\"text-align: right;\">\n",
       "      <th></th>\n",
       "      <th>ArtistId</th>\n",
       "      <th>Artist</th>\n",
       "      <th>Listeners</th>\n",
       "      <th>Scrobbles</th>\n",
       "      <th>Tag1</th>\n",
       "      <th>Tag2</th>\n",
       "      <th>Tag3</th>\n",
       "      <th>Tag4</th>\n",
       "      <th>Tag5</th>\n",
       "    </tr>\n",
       "  </thead>\n",
       "  <tbody>\n",
       "    <tr>\n",
       "      <th>2130</th>\n",
       "      <td>86119d30-d930-4e65-a97a-e31e22388166</td>\n",
       "      <td>陳奕迅</td>\n",
       "      <td>70272</td>\n",
       "      <td>5542236</td>\n",
       "      <td>chinese</td>\n",
       "      <td>Hong Kong</td>\n",
       "      <td>pop</td>\n",
       "      <td>cantonese</td>\n",
       "      <td>C-pop</td>\n",
       "    </tr>\n",
       "    <tr>\n",
       "      <th>2131</th>\n",
       "      <td>3a71842d-b291-4991-a30d-9d8328a26d3e</td>\n",
       "      <td>陳綺貞</td>\n",
       "      <td>22755</td>\n",
       "      <td>1925018</td>\n",
       "      <td>indie</td>\n",
       "      <td>indie pop</td>\n",
       "      <td>chinese</td>\n",
       "      <td>taiwan</td>\n",
       "      <td>folk</td>\n",
       "    </tr>\n",
       "    <tr>\n",
       "      <th>2132</th>\n",
       "      <td>176650bf-db9c-48dd-8c01-376104966997</td>\n",
       "      <td>電気グルーヴ</td>\n",
       "      <td>45454</td>\n",
       "      <td>2499786</td>\n",
       "      <td>techno</td>\n",
       "      <td>japanese</td>\n",
       "      <td>electronic</td>\n",
       "      <td>electronica</td>\n",
       "      <td>dance</td>\n",
       "    </tr>\n",
       "    <tr>\n",
       "      <th>2133</th>\n",
       "      <td>3821e3ac-4d91-40b8-a669-f58d1fe2c0c4</td>\n",
       "      <td>魏如萱</td>\n",
       "      <td>11307</td>\n",
       "      <td>422174</td>\n",
       "      <td>indie</td>\n",
       "      <td>taiwanese</td>\n",
       "      <td>chinese</td>\n",
       "      <td>indie pop</td>\n",
       "      <td>taiwan</td>\n",
       "    </tr>\n",
       "    <tr>\n",
       "      <th>2134</th>\n",
       "      <td>a13a4783-fb66-4687-8ba7-394637ccd9e0</td>\n",
       "      <td>麥浚龍</td>\n",
       "      <td>5754</td>\n",
       "      <td>408910</td>\n",
       "      <td>Hong Kong</td>\n",
       "      <td>pop</td>\n",
       "      <td>cantonese</td>\n",
       "      <td>chinese</td>\n",
       "      <td>juno mak</td>\n",
       "    </tr>\n",
       "  </tbody>\n",
       "</table>\n",
       "</div>"
      ],
      "text/plain": [
       "                                  ArtistId  Artist Listeners Scrobbles  \\\n",
       "2130  86119d30-d930-4e65-a97a-e31e22388166     陳奕迅     70272   5542236   \n",
       "2131  3a71842d-b291-4991-a30d-9d8328a26d3e     陳綺貞     22755   1925018   \n",
       "2132  176650bf-db9c-48dd-8c01-376104966997  電気グルーヴ     45454   2499786   \n",
       "2133  3821e3ac-4d91-40b8-a669-f58d1fe2c0c4     魏如萱     11307    422174   \n",
       "2134  a13a4783-fb66-4687-8ba7-394637ccd9e0     麥浚龍      5754    408910   \n",
       "\n",
       "           Tag1       Tag2        Tag3         Tag4      Tag5  \n",
       "2130    chinese  Hong Kong         pop    cantonese     C-pop  \n",
       "2131      indie  indie pop     chinese       taiwan      folk  \n",
       "2132     techno   japanese  electronic  electronica     dance  \n",
       "2133      indie  taiwanese     chinese    indie pop    taiwan  \n",
       "2134  Hong Kong        pop   cantonese      chinese  juno mak  "
      ]
     },
     "execution_count": 432,
     "metadata": {},
     "output_type": "execute_result"
    }
   ],
   "source": [
    "dwn.GetDfArtistInfo()"
   ]
  },
  {
   "cell_type": "code",
   "execution_count": 434,
   "metadata": {},
   "outputs": [],
   "source": [
    "# Saving all dataframes to csv\n",
    "dwn.DfGeoTopTracks.to_csv('geo_top_tracks.csv', encoding='utf-8-sig')\n",
    "dwn.DfGeoTopArtists.to_csv('geo_top_artists.csv', encoding='utf-8-sig')\n",
    "dwn.DfArtistInfo.to_csv('artist_info.csv', encoding='utf-8-sig')"
   ]
  },
  {
   "cell_type": "code",
   "execution_count": null,
   "metadata": {},
   "outputs": [],
   "source": []
  }
 ],
 "metadata": {
  "hide_input": false,
  "kernelspec": {
   "display_name": "Python 3",
   "language": "python",
   "name": "python3"
  },
  "language_info": {
   "codemirror_mode": {
    "name": "ipython",
    "version": 3
   },
   "file_extension": ".py",
   "mimetype": "text/x-python",
   "name": "python",
   "nbconvert_exporter": "python",
   "pygments_lexer": "ipython3",
   "version": "3.7.3"
  }
 },
 "nbformat": 4,
 "nbformat_minor": 2
}
