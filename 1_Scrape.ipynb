{
 "cells": [
  {
   "cell_type": "code",
   "execution_count": 2,
   "metadata": {},
   "outputs": [],
   "source": [
    "import requests\n",
    "import pandas as pd\n",
    "import numpy as np\n",
    "import matplotlib.pyplot as plt\n",
    "from bs4 import BeautifulSoup"
   ]
  },
  {
   "cell_type": "markdown",
   "metadata": {},
   "source": [
    "API key, Petr: 24a6e38c235025362537c2bcd85e66d9"
   ]
  },
  {
   "cell_type": "code",
   "execution_count": 13,
   "metadata": {},
   "outputs": [],
   "source": [
    "class LastFMDownloader: \n",
    "    '''\n",
    "    Downloader class for collection of data and storage of results.\n",
    "    '''\n",
    "    def __init__(self, allowLog = True):\n",
    "        '''\n",
    "        Initilization of Downloader object. Storing objects from the webpage with self.qwe, self.rty and self.uio\n",
    "        '''\n",
    "        self.allowLog = allowLog\n",
    "        if self.allowLog:\n",
    "            print('Downloader initialized.')\n",
    "            \n",
    "    def GetSoup(self, link):\n",
    "        '''\n",
    "        Returns soup in xml of from the given link in utf-8 encoding.\n",
    "        '''\n",
    "        self.link = link\n",
    "        r = requests.get(link)\n",
    "        r.encoding='UTF-8'\n",
    "        self.soup = BeautifulSoup(r.text,'lxml')\n",
    "    \n",
    "    def ParseSoupTag(self, tag):\n",
    "        '''\n",
    "        Returns a list of all lines with a certain tag.\n",
    "        '''\n",
    "        return self.soup.findAll(tag)\n",
    "    \n",
    "    def ParseSoupTagAttribute(self, tag, attribute, attribute_value):\n",
    "        '''\n",
    "        Returns a list of all lines with a certain tag given it's attribute.\n",
    "        '''\n",
    "        return self.soup.findAll(tag, {attribute, attribute_value})\n",
    "    \n",
    "    def SaveDfs(self): \n",
    "        '''\n",
    "        Storing objects from the webpage as pandas DataFrame dictionary.\n",
    "        '''\n",
    "        dfs = {}\n",
    "        dfs['Artists'] = self.artists\n",
    "        dfs['Albums'] = self.albums\n",
    "        dfs['Tracks'] = self.tracks\n",
    "        self.resultsdf = dfs\n",
    "        return self.resultsdf\n",
    "    \n",
    "    def getlinks(self):\n",
    "        '''\n",
    "        Returns all links.\n",
    "        '''\n",
    "        all_links = self.soup.find_all('a')\n",
    "        for link in all_links:\n",
    "            self.links = print(link.get('href'))\n",
    "            return self.links\n",
    "        \n"
   ]
  },
  {
   "cell_type": "code",
   "execution_count": 14,
   "metadata": {},
   "outputs": [
    {
     "name": "stdout",
     "output_type": "stream",
     "text": [
      "Downloader initialized.\n"
     ]
    }
   ],
   "source": [
    "portugal = LastFMDownloader()"
   ]
  },
  {
   "cell_type": "code",
   "execution_count": 15,
   "metadata": {},
   "outputs": [],
   "source": [
    "portugal.GetSoup('http://ws.audioscrobbler.com/2.0/?method=geo.gettopartists&country=portugal&api_key=24a6e38c235025362537c2bcd85e66d9')"
   ]
  },
  {
   "cell_type": "code",
   "execution_count": 24,
   "metadata": {},
   "outputs": [
    {
     "data": {
      "text/plain": [
       "[<name>Radiohead</name>,\n",
       " <name>David Bowie</name>,\n",
       " <name>Arctic Monkeys</name>,\n",
       " <name>The Beatles</name>,\n",
       " <name>Queen</name>,\n",
       " <name>Arcade Fire</name>,\n",
       " <name>Tame Impala</name>,\n",
       " <name>Pink Floyd</name>,\n",
       " <name>Nirvana</name>,\n",
       " <name>The xx</name>,\n",
       " <name>Coldplay</name>,\n",
       " <name>Red Hot Chili Peppers</name>,\n",
       " <name>Queens of the Stone Age</name>,\n",
       " <name>The Rolling Stones</name>,\n",
       " <name>The Weeknd</name>,\n",
       " <name>The Cure</name>,\n",
       " <name>Led Zeppelin</name>,\n",
       " <name>Lana Del Rey</name>,\n",
       " <name>Gorillaz</name>,\n",
       " <name>Blur</name>,\n",
       " <name>Daft Punk</name>,\n",
       " <name>Muse</name>,\n",
       " <name>The National</name>,\n",
       " <name>The Strokes</name>,\n",
       " <name>The Black Keys</name>,\n",
       " <name>Foo Fighters</name>,\n",
       " <name>Beck</name>,\n",
       " <name>Pearl Jam</name>,\n",
       " <name>alt-J</name>,\n",
       " <name>Massive Attack</name>,\n",
       " <name>Bon Iver</name>,\n",
       " <name>Kendrick Lamar</name>,\n",
       " <name>Foals</name>,\n",
       " <name>Pixies</name>,\n",
       " <name>The White Stripes</name>,\n",
       " <name>Drake</name>,\n",
       " <name>The Smashing Pumpkins</name>,\n",
       " <name>Metallica</name>,\n",
       " <name>MGMT</name>,\n",
       " <name>Florence + the Machine</name>,\n",
       " <name>The Killers</name>,\n",
       " <name>Sufjan Stevens</name>,\n",
       " <name>Sia</name>,\n",
       " <name>The Smiths</name>,\n",
       " <name>The Doors</name>,\n",
       " <name>Joy Division</name>,\n",
       " <name>Kanye West</name>,\n",
       " <name>Franz Ferdinand</name>,\n",
       " <name>Linkin Park</name>,\n",
       " <name>Bob Dylan</name>]"
      ]
     },
     "execution_count": 24,
     "metadata": {},
     "output_type": "execute_result"
    }
   ],
   "source": [
    "portugal.ParseSoupTag('name')"
   ]
  },
  {
   "cell_type": "markdown",
   "metadata": {},
   "source": [
    "class - artist"
   ]
  }
 ],
 "metadata": {
  "hide_input": false,
  "kernelspec": {
   "display_name": "Python 3",
   "language": "python",
   "name": "python3"
  },
  "language_info": {
   "codemirror_mode": {
    "name": "ipython",
    "version": 3
   },
   "file_extension": ".py",
   "mimetype": "text/x-python",
   "name": "python",
   "nbconvert_exporter": "python",
   "pygments_lexer": "ipython3",
   "version": "3.7.3"
  }
 },
 "nbformat": 4,
 "nbformat_minor": 2
}
